{
  "metadata": {
    "kernelspec": {
      "language": "python",
      "display_name": "Python 3",
      "name": "python3"
    },
    "language_info": {
      "name": "python",
      "version": "3.10.12",
      "mimetype": "text/x-python",
      "codemirror_mode": {
        "name": "ipython",
        "version": 3
      },
      "pygments_lexer": "ipython3",
      "nbconvert_exporter": "python",
      "file_extension": ".py"
    },
    "kaggle": {
      "accelerator": "none",
      "dataSources": [
        {
          "sourceId": 4367503,
          "sourceType": "datasetVersion",
          "datasetId": 2568515
        }
      ],
      "dockerImageVersionId": 30558,
      "isInternetEnabled": true,
      "language": "python",
      "sourceType": "notebook",
      "isGpuEnabled": false
    },
    "colab": {
      "name": "CPU Data Analysis",
      "provenance": [],
      "include_colab_link": true
    }
  },
  "nbformat_minor": 0,
  "nbformat": 4,
  "cells": [
    {
      "cell_type": "markdown",
      "metadata": {
        "id": "view-in-github",
        "colab_type": "text"
      },
      "source": [
        "<a href=\"https://colab.research.google.com/github/Karlajack/Python_classes/blob/main/CPU_Data_Analysis.ipynb\" target=\"_parent\"><img src=\"https://colab.research.google.com/assets/colab-badge.svg\" alt=\"Open In Colab\"/></a>"
      ]
    },
    {
      "source": [
        "\n",
        "# IMPORTANT: RUN THIS CELL IN ORDER TO IMPORT YOUR KAGGLE DATA SOURCES\n",
        "# TO THE CORRECT LOCATION (/kaggle/input) IN YOUR NOTEBOOK,\n",
        "# THEN FEEL FREE TO DELETE THIS CELL.\n",
        "# NOTE: THIS NOTEBOOK ENVIRONMENT DIFFERS FROM KAGGLE'S PYTHON\n",
        "# ENVIRONMENT SO THERE MAY BE MISSING LIBRARIES USED BY YOUR\n",
        "# NOTEBOOK.\n",
        "\n",
        "import os\n",
        "import sys\n",
        "from tempfile import NamedTemporaryFile\n",
        "from urllib.request import urlopen\n",
        "from urllib.parse import unquote, urlparse\n",
        "from urllib.error import HTTPError\n",
        "from zipfile import ZipFile\n",
        "import tarfile\n",
        "import shutil\n",
        "\n",
        "CHUNK_SIZE = 40960\n",
        "DATA_SOURCE_MAPPING = 'cpu-and-gpu-product-data:https%3A%2F%2Fstorage.googleapis.com%2Fkaggle-data-sets%2F2568515%2F4367503%2Fbundle%2Farchive.zip%3FX-Goog-Algorithm%3DGOOG4-RSA-SHA256%26X-Goog-Credential%3Dgcp-kaggle-com%2540kaggle-161607.iam.gserviceaccount.com%252F20240429%252Fauto%252Fstorage%252Fgoog4_request%26X-Goog-Date%3D20240429T103631Z%26X-Goog-Expires%3D259200%26X-Goog-SignedHeaders%3Dhost%26X-Goog-Signature%3Da13075a54b220eedd6229ddb0f2f37c26975dec4bb8a0a8ee4b38ae5dde4de2e5f59f151b91a4634896f895eaf6bcd73c590adf887988e1ac18a579bfb4c526288a536ddc5ea55d1a1babe4bb2f9f70c8cb051a2476fe63545cc6c1519043c2b85b06eaffd0ae1c4939eba2b5b5daffd8fbcbf233a55c8559595e6b1950fdbfea8808f8644b2e6dddd10f920b8eb447931651e28e07bac5630f766343b500e01c5c3b8a7953fbfed326babb67d98146fb43c3211742c1f98782e66b6bcb7890a27d52577880cee33baf06441805f1215a71c2bf43fa737c21a0b8c59a03df6066973cde626ffe141c906a50cb14d25d68cf5c6507cf11cb224ab59e7fade5a53'\n",
        "\n",
        "KAGGLE_INPUT_PATH='/kaggle/input'\n",
        "KAGGLE_WORKING_PATH='/kaggle/working'\n",
        "KAGGLE_SYMLINK='kaggle'\n",
        "\n",
        "!umount /kaggle/input/ 2> /dev/null\n",
        "shutil.rmtree('/kaggle/input', ignore_errors=True)\n",
        "os.makedirs(KAGGLE_INPUT_PATH, 0o777, exist_ok=True)\n",
        "os.makedirs(KAGGLE_WORKING_PATH, 0o777, exist_ok=True)\n",
        "\n",
        "try:\n",
        "  os.symlink(KAGGLE_INPUT_PATH, os.path.join(\"..\", 'input'), target_is_directory=True)\n",
        "except FileExistsError:\n",
        "  pass\n",
        "try:\n",
        "  os.symlink(KAGGLE_WORKING_PATH, os.path.join(\"..\", 'working'), target_is_directory=True)\n",
        "except FileExistsError:\n",
        "  pass\n",
        "\n",
        "for data_source_mapping in DATA_SOURCE_MAPPING.split(','):\n",
        "    directory, download_url_encoded = data_source_mapping.split(':')\n",
        "    download_url = unquote(download_url_encoded)\n",
        "    filename = urlparse(download_url).path\n",
        "    destination_path = os.path.join(KAGGLE_INPUT_PATH, directory)\n",
        "    try:\n",
        "        with urlopen(download_url) as fileres, NamedTemporaryFile() as tfile:\n",
        "            total_length = fileres.headers['content-length']\n",
        "            print(f'Downloading {directory}, {total_length} bytes compressed')\n",
        "            dl = 0\n",
        "            data = fileres.read(CHUNK_SIZE)\n",
        "            while len(data) > 0:\n",
        "                dl += len(data)\n",
        "                tfile.write(data)\n",
        "                done = int(50 * dl / int(total_length))\n",
        "                sys.stdout.write(f\"\\r[{'=' * done}{' ' * (50-done)}] {dl} bytes downloaded\")\n",
        "                sys.stdout.flush()\n",
        "                data = fileres.read(CHUNK_SIZE)\n",
        "            if filename.endswith('.zip'):\n",
        "              with ZipFile(tfile) as zfile:\n",
        "                zfile.extractall(destination_path)\n",
        "            else:\n",
        "              with tarfile.open(tfile.name) as tarfile:\n",
        "                tarfile.extractall(destination_path)\n",
        "            print(f'\\nDownloaded and uncompressed: {directory}')\n",
        "    except HTTPError as e:\n",
        "        print(f'Failed to load (likely expired) {download_url} to path {destination_path}')\n",
        "        continue\n",
        "    except OSError as e:\n",
        "        print(f'Failed to load {download_url} to path {destination_path}')\n",
        "        continue\n",
        "\n",
        "print('Data source import complete.')\n"
      ],
      "metadata": {
        "id": "MZcsNcSPbYnV"
      },
      "cell_type": "code",
      "outputs": [],
      "execution_count": null
    },
    {
      "cell_type": "markdown",
      "source": [
        "# **\\[0\\]** Importing Libraries & Reading Data"
      ],
      "metadata": {
        "id": "NPU66ALybYnY"
      }
    },
    {
      "cell_type": "code",
      "source": [
        "import re\n",
        "\n",
        "import numpy as np\n",
        "import pandas as pd\n",
        "\n",
        "import matplotlib as mpl\n",
        "import matplotlib.pyplot as plt\n",
        "import seaborn as sns\n",
        "import plotly.express as px"
      ],
      "metadata": {
        "execution": {
          "iopub.status.busy": "2023-11-27T04:14:29.179295Z",
          "iopub.execute_input": "2023-11-27T04:14:29.180518Z",
          "iopub.status.idle": "2023-11-27T04:14:32.645068Z",
          "shell.execute_reply.started": "2023-11-27T04:14:29.180451Z",
          "shell.execute_reply": "2023-11-27T04:14:32.643369Z"
        },
        "jupyter": {
          "source_hidden": true
        },
        "trusted": true,
        "id": "BElPzURPbYna"
      },
      "execution_count": null,
      "outputs": []
    },
    {
      "cell_type": "code",
      "source": [
        "%matplotlib inline\n",
        "\n",
        "plt.style.use('ggplot')\n",
        "\n",
        "plt.rcParams['axes.titleweight']   = 'bold'\n",
        "plt.rcParams['axes.titlelocation'] = 'left'\n",
        "plt.rcParams['figure.titleweight'] = 'bold'\n",
        "plt.rcParams['legend.framealpha'] = 0.5\n",
        "plt.rcParams['legend.facecolor'] = 'white'\n",
        "plt.rcParams['axes.facecolor'] = '#DDDDFF'\n",
        "plt.rcParams['scatter.edgecolors'] = '#DDDDFF'\n",
        "\n",
        "\n",
        "pd.options.display.max_columns = 200"
      ],
      "metadata": {
        "jupyter": {
          "source_hidden": true
        },
        "execution": {
          "iopub.status.busy": "2023-11-27T04:14:32.648425Z",
          "iopub.execute_input": "2023-11-27T04:14:32.649206Z",
          "iopub.status.idle": "2023-11-27T04:14:32.665672Z",
          "shell.execute_reply.started": "2023-11-27T04:14:32.649163Z",
          "shell.execute_reply": "2023-11-27T04:14:32.663706Z"
        },
        "trusted": true,
        "id": "Dz3oqtBcbYna"
      },
      "execution_count": null,
      "outputs": []
    },
    {
      "cell_type": "code",
      "source": [
        "df = pd.read_csv(\"/kaggle/input/cpu-and-gpu-product-data/chip_dataset.csv\", index_col=0)"
      ],
      "metadata": {
        "jupyter": {
          "source_hidden": true
        },
        "execution": {
          "iopub.status.busy": "2023-11-27T04:14:32.667382Z",
          "iopub.execute_input": "2023-11-27T04:14:32.668461Z",
          "iopub.status.idle": "2023-11-27T04:14:32.750356Z",
          "shell.execute_reply.started": "2023-11-27T04:14:32.668415Z",
          "shell.execute_reply": "2023-11-27T04:14:32.749069Z"
        },
        "trusted": true,
        "id": "TrZjXZORbYna"
      },
      "execution_count": null,
      "outputs": []
    },
    {
      "cell_type": "code",
      "source": [
        "df.shape"
      ],
      "metadata": {
        "jupyter": {
          "source_hidden": true
        },
        "execution": {
          "iopub.status.busy": "2023-11-27T04:14:32.753749Z",
          "iopub.execute_input": "2023-11-27T04:14:32.754847Z",
          "iopub.status.idle": "2023-11-27T04:14:32.764622Z",
          "shell.execute_reply.started": "2023-11-27T04:14:32.754799Z",
          "shell.execute_reply": "2023-11-27T04:14:32.763541Z"
        },
        "trusted": true,
        "id": "uEkeBxL9bYnb"
      },
      "execution_count": null,
      "outputs": []
    },
    {
      "cell_type": "code",
      "source": [
        "df.dtypes"
      ],
      "metadata": {
        "jupyter": {
          "source_hidden": true
        },
        "execution": {
          "iopub.status.busy": "2023-11-27T04:14:32.766233Z",
          "iopub.execute_input": "2023-11-27T04:14:32.767397Z",
          "iopub.status.idle": "2023-11-27T04:14:32.78549Z",
          "shell.execute_reply.started": "2023-11-27T04:14:32.767359Z",
          "shell.execute_reply": "2023-11-27T04:14:32.783473Z"
        },
        "trusted": true,
        "id": "KismHVTFbYnb"
      },
      "execution_count": null,
      "outputs": []
    },
    {
      "cell_type": "code",
      "source": [
        "df.columns"
      ],
      "metadata": {
        "jupyter": {
          "source_hidden": true
        },
        "execution": {
          "iopub.status.busy": "2023-11-27T04:14:32.787387Z",
          "iopub.execute_input": "2023-11-27T04:14:32.78813Z",
          "iopub.status.idle": "2023-11-27T04:14:32.802666Z",
          "shell.execute_reply.started": "2023-11-27T04:14:32.788084Z",
          "shell.execute_reply": "2023-11-27T04:14:32.801343Z"
        },
        "trusted": true,
        "id": "_nYnZFaTbYnb"
      },
      "execution_count": null,
      "outputs": []
    },
    {
      "cell_type": "code",
      "source": [
        "df.head()"
      ],
      "metadata": {
        "jupyter": {
          "source_hidden": true
        },
        "execution": {
          "iopub.status.busy": "2023-11-27T04:14:32.804515Z",
          "iopub.execute_input": "2023-11-27T04:14:32.80527Z",
          "iopub.status.idle": "2023-11-27T04:14:32.846293Z",
          "shell.execute_reply.started": "2023-11-27T04:14:32.805221Z",
          "shell.execute_reply": "2023-11-27T04:14:32.845118Z"
        },
        "trusted": true,
        "id": "S5usCT5tbYnc"
      },
      "execution_count": null,
      "outputs": []
    },
    {
      "cell_type": "code",
      "source": [
        "# Number of missing values for each columns\n",
        "df.isna().sum()"
      ],
      "metadata": {
        "jupyter": {
          "source_hidden": true
        },
        "execution": {
          "iopub.status.busy": "2023-11-27T04:14:32.848044Z",
          "iopub.execute_input": "2023-11-27T04:14:32.848761Z",
          "iopub.status.idle": "2023-11-27T04:14:32.864341Z",
          "shell.execute_reply.started": "2023-11-27T04:14:32.848708Z",
          "shell.execute_reply": "2023-11-27T04:14:32.863079Z"
        },
        "trusted": true,
        "id": "9YUBBuE8bYnc"
      },
      "execution_count": null,
      "outputs": []
    },
    {
      "cell_type": "markdown",
      "source": [
        "# **\\[1\\]** Data Preprocessing\n",
        "1. Remove Unnecessary data\n",
        "2. Rename columns"
      ],
      "metadata": {
        "id": "0vg90aWkbYnc"
      }
    },
    {
      "cell_type": "code",
      "source": [
        "# remove columns\n",
        "df.columns\n",
        "df = df.loc[:, [\n",
        "    'Product', 'Type', 'Release Date', 'Process Size (nm)', 'TDP (W)',\n",
        "    'Die Size (mm^2)', 'Transistors (million)', 'Freq (MHz)', 'Foundry',\n",
        "    'Vendor' #, 'FP16 GFLOPS', 'FP32 GFLOPS', 'FP64 GFLOPS'\n",
        "]] \\\n",
        ".reset_index(drop=True)\n",
        "\n",
        "df.info()"
      ],
      "metadata": {
        "jupyter": {
          "source_hidden": true
        },
        "execution": {
          "iopub.status.busy": "2023-11-27T04:14:32.866115Z",
          "iopub.execute_input": "2023-11-27T04:14:32.866854Z",
          "iopub.status.idle": "2023-11-27T04:14:32.89967Z",
          "shell.execute_reply.started": "2023-11-27T04:14:32.866815Z",
          "shell.execute_reply": "2023-11-27T04:14:32.898521Z"
        },
        "trusted": true,
        "id": "kq3n_gQPbYnc"
      },
      "execution_count": null,
      "outputs": []
    },
    {
      "cell_type": "code",
      "source": [
        "df = df.rename(columns={\n",
        "    'Product': 'model',\n",
        "    'Release Date': 'release_date',\n",
        "    'TDP (W)': 'tdp_w',\n",
        "    'Die Size (mm^2)': 'die_size_mm2',\n",
        "    'Process Size (nm)': 'process_size_nm',\n",
        "    'Transistors (million)': 'transistors_10e6',\n",
        "    'Freq (MHz)': 'freq_mhz',\n",
        "    'Vendor': 'Vendor',\n",
        "    'Foundry': 'Foundry'\n",
        "})\n",
        "df.head()"
      ],
      "metadata": {
        "jupyter": {
          "source_hidden": true
        },
        "execution": {
          "iopub.status.busy": "2023-11-27T04:14:32.905436Z",
          "iopub.execute_input": "2023-11-27T04:14:32.9061Z",
          "iopub.status.idle": "2023-11-27T04:14:32.935049Z",
          "shell.execute_reply.started": "2023-11-27T04:14:32.906061Z",
          "shell.execute_reply": "2023-11-27T04:14:32.93346Z"
        },
        "trusted": true,
        "id": "ak_N4MwdbYnc"
      },
      "execution_count": null,
      "outputs": []
    },
    {
      "cell_type": "code",
      "source": [
        "# set release_date to datetime64\n",
        "df.release_date = pd.to_datetime(df.release_date,format=\"%Y-%m-%d\")\n",
        "df = df.dropna(subset=['release_date'])\n",
        "\n",
        "# Fill NaN values with mean\n",
        "df.process_size_nm = df.process_size_nm.fillna(df.process_size_nm.dropna().mean())\n",
        "df.die_size_mm2 = df.die_size_mm2.fillna(df.die_size_mm2.dropna().mean())\n",
        "df.transistors_10e6 = df.transistors_10e6.fillna(df.transistors_10e6.dropna().mean())\n",
        "\n",
        "# set procss size to int\n",
        "df.process_size_nm = df.process_size_nm.astype(int)\n",
        "\n",
        "df['rel_year'] = df.release_date.dt.year.astype(int, errors='raise')\n",
        "\n",
        "df.info()"
      ],
      "metadata": {
        "jupyter": {
          "source_hidden": true
        },
        "execution": {
          "iopub.status.busy": "2023-11-27T04:14:32.938379Z",
          "iopub.execute_input": "2023-11-27T04:14:32.940799Z",
          "iopub.status.idle": "2023-11-27T04:14:32.984651Z",
          "shell.execute_reply.started": "2023-11-27T04:14:32.940742Z",
          "shell.execute_reply": "2023-11-27T04:14:32.983104Z"
        },
        "trusted": true,
        "id": "50aTFJuHbYnd"
      },
      "execution_count": null,
      "outputs": []
    },
    {
      "cell_type": "code",
      "source": [
        "df = df.query(\"rel_year < 2021\")\n",
        "df.info()"
      ],
      "metadata": {
        "jupyter": {
          "source_hidden": true
        },
        "execution": {
          "iopub.status.busy": "2023-11-27T04:14:32.986625Z",
          "iopub.execute_input": "2023-11-27T04:14:32.987178Z",
          "iopub.status.idle": "2023-11-27T04:14:33.014292Z",
          "shell.execute_reply.started": "2023-11-27T04:14:32.987129Z",
          "shell.execute_reply": "2023-11-27T04:14:33.012898Z"
        },
        "trusted": true,
        "id": "b58yXT0HbYnd"
      },
      "execution_count": null,
      "outputs": []
    },
    {
      "cell_type": "code",
      "source": [
        "df_use_cats = [\"Server\", \"PC\"]\n",
        "\n",
        "df['series'] = df.model.str.extract(r\"^\\w+\\s(\\w+)\\s*\")\n",
        "tgt = df.model.str.contains('EPYC|Xeon|Quadro', regex=True, flags=re.IGNORECASE, na=False) \\\n",
        "     & df.Type.str.contains('CPU')\n",
        "\n",
        "df['target'] = pd.Series(['Server' if i else 'PC' for i in tgt])\n",
        "\n",
        "df.head()"
      ],
      "metadata": {
        "jupyter": {
          "source_hidden": true
        },
        "execution": {
          "iopub.status.busy": "2023-11-27T04:14:33.016179Z",
          "iopub.execute_input": "2023-11-27T04:14:33.016687Z",
          "iopub.status.idle": "2023-11-27T04:14:33.082365Z",
          "shell.execute_reply.started": "2023-11-27T04:14:33.016643Z",
          "shell.execute_reply": "2023-11-27T04:14:33.080902Z"
        },
        "trusted": true,
        "id": "7lmVhaIebYnd"
      },
      "execution_count": null,
      "outputs": []
    },
    {
      "cell_type": "code",
      "source": [
        "# Convert to categorical\n",
        "categories = {\n",
        "    'Vendor': ['AMD','Intel','Other','NVIDIA','ATI'],\n",
        "    'Type': ['CPU','GPU'],\n",
        "    'target': ['Server','PC']\n",
        "}\n",
        "for k,v in categories.items():\n",
        "    df[k] = pd.Categorical(df[k],categories=v,ordered=True)\n",
        "\n",
        "df.info()"
      ],
      "metadata": {
        "jupyter": {
          "source_hidden": true
        },
        "execution": {
          "iopub.status.busy": "2023-11-27T04:14:33.084624Z",
          "iopub.execute_input": "2023-11-27T04:14:33.085083Z",
          "iopub.status.idle": "2023-11-27T04:14:33.117634Z",
          "shell.execute_reply.started": "2023-11-27T04:14:33.085042Z",
          "shell.execute_reply": "2023-11-27T04:14:33.115746Z"
        },
        "trusted": true,
        "id": "JvvzSPYPbYnd"
      },
      "execution_count": null,
      "outputs": []
    },
    {
      "cell_type": "code",
      "source": [
        "fig, axs = plt.subplots(1,4,figsize=(12,6),sharey=True)\n",
        "\n",
        "with sns.axes_style('ticks'):\n",
        "    sns.countplot(df, x='Type', ax=axs[0])\n",
        "    axs[0].set_xticklabels(axs[0].get_xticklabels(), rotation=90)\n",
        "    sns.countplot(df, x='target', ax=axs[1])\n",
        "    sns.countplot(df, x='Vendor', ax=axs[2])\n",
        "\n",
        "#     df_fd = df.groupby('Foundry',as_index=False)['model'].agg(['count'])\n",
        "#     display(df_fd)\n",
        "    sns.countplot(x=df.Foundry, ax=axs[3])\n",
        "\n",
        "    for i in (1,2,3):\n",
        "        axs[i].set_ylabel('')\n",
        "        axs[i].tick_params(left=False)\n",
        "        axs[i].set_xticklabels(axs[i].get_xticklabels(), rotation=90)\n",
        "#         sns.despine(ax=axs[i],left=True)\n",
        "    sns.despine(trim=False)"
      ],
      "metadata": {
        "jupyter": {
          "source_hidden": true
        },
        "execution": {
          "iopub.status.busy": "2023-11-27T04:14:33.119559Z",
          "iopub.execute_input": "2023-11-27T04:14:33.120095Z",
          "iopub.status.idle": "2023-11-27T04:14:33.963566Z",
          "shell.execute_reply.started": "2023-11-27T04:14:33.120045Z",
          "shell.execute_reply": "2023-11-27T04:14:33.961336Z"
        },
        "trusted": true,
        "id": "IZU4gZT6bYnd"
      },
      "execution_count": null,
      "outputs": []
    },
    {
      "cell_type": "markdown",
      "source": [
        "# [3] Questions"
      ],
      "metadata": {
        "id": "PWN0ys8GbYnd"
      }
    },
    {
      "cell_type": "markdown",
      "source": [
        "## 1. Does Moore's Law hold?\n",
        "> Moore's Law is the observation that the number of transistors in an Integrated Circuit **doubles** about every *2 years*\n"
      ],
      "metadata": {
        "id": "m_JtpmiWbYnd"
      }
    },
    {
      "cell_type": "markdown",
      "source": [
        "For the dataset in use, we have *2* columns related to Moore's law:\n",
        "1. **Process Size (nm)** - transistor size on each layer of silicon on CPU\n",
        "2. **Transistors (million)** - number of transistors in millions\n",
        "3. **Die Size ($mm^2$)** - Size of IC\n",
        "\n",
        "For Moore's Law to be upheld, there must be:\n",
        "1. ***Negative* correlation** between <u>Process Size</u> and <u>Time</u>\n",
        "2. ***Positive* correlation** between <u>Transistors</u> and <u>Time</u>"
      ],
      "metadata": {
        "id": "W06-XwJybYnd"
      }
    },
    {
      "cell_type": "code",
      "source": [
        "# Data aggregation\n",
        "q1_cols = ['model','Type','transistors_10e6','rel_year','process_size_nm','die_size_mm2','Vendor','target']\n",
        "q1_data = df.loc[:, q1_cols].copy()\n",
        "\n",
        "q1_data['transistors'] = q1_data.transistors_10e6 * 1_000_000\n",
        "q1_data['transistors_log'] = np.log10(q1_data.transistors)"
      ],
      "metadata": {
        "jupyter": {
          "source_hidden": true
        },
        "execution": {
          "iopub.status.busy": "2023-11-27T04:14:33.965591Z",
          "iopub.execute_input": "2023-11-27T04:14:33.966333Z",
          "iopub.status.idle": "2023-11-27T04:14:33.980803Z",
          "shell.execute_reply.started": "2023-11-27T04:14:33.966284Z",
          "shell.execute_reply": "2023-11-27T04:14:33.979335Z"
        },
        "trusted": true,
        "id": "1Ls6JiagbYnd"
      },
      "execution_count": null,
      "outputs": []
    },
    {
      "cell_type": "code",
      "source": [
        "sns.displot(df.transistors_10e6,log_scale=True,kind='hist',kde=True)"
      ],
      "metadata": {
        "jupyter": {
          "source_hidden": true
        },
        "execution": {
          "iopub.status.busy": "2023-11-27T04:14:33.982817Z",
          "iopub.execute_input": "2023-11-27T04:14:33.983713Z",
          "iopub.status.idle": "2023-11-27T04:14:35.269337Z",
          "shell.execute_reply.started": "2023-11-27T04:14:33.983668Z",
          "shell.execute_reply": "2023-11-27T04:14:35.268093Z"
        },
        "trusted": true,
        "id": "dqrhyQPWbYnd"
      },
      "execution_count": null,
      "outputs": []
    },
    {
      "cell_type": "markdown",
      "source": [
        "**Histogram of Transistor Count over Time** \\\n",
        "The plotted histogram shows us a general *increase* in Transistor Count over the years"
      ],
      "metadata": {
        "id": "ZbQRlkj1bYnd"
      }
    },
    {
      "cell_type": "code",
      "source": [
        "x_ax = 'rel_year'\n",
        "marker_ls=['o','X']\n",
        "x_label = 'Release Year $\\\\rightarrow$'\n",
        "\n",
        "brand_palette = sns.color_palette(palette=['#ED1C24','#0f7dc2','xkcd:bluish grey','#76b900','#ED1B2F'],\n",
        "                                 n_colors=5)"
      ],
      "metadata": {
        "jupyter": {
          "source_hidden": true
        },
        "execution": {
          "iopub.status.busy": "2023-11-27T04:14:35.270932Z",
          "iopub.execute_input": "2023-11-27T04:14:35.271359Z",
          "iopub.status.idle": "2023-11-27T04:14:35.278401Z",
          "shell.execute_reply.started": "2023-11-27T04:14:35.271322Z",
          "shell.execute_reply": "2023-11-27T04:14:35.276947Z"
        },
        "trusted": true,
        "id": "opBpeePjbYne"
      },
      "execution_count": null,
      "outputs": []
    },
    {
      "cell_type": "markdown",
      "source": [
        "### Plots between *Transistor Count* and *Year of Release*\n",
        "1. Regression Plotting\n",
        "2. Bar Plot"
      ],
      "metadata": {
        "id": "E3QZRZlVbYne"
      }
    },
    {
      "cell_type": "code",
      "source": [
        "#===================================#\n",
        "# Transistor Count vs. Release Year #\n",
        "#===================================#\n",
        "\n",
        "fig, ax = plt.subplots(figsize=(12,6))\n",
        "\n",
        "y_ax = 'transistors_log'\n",
        "\n",
        "sns.scatterplot(data=q1_data,\n",
        "            y=y_ax, x=x_ax,\n",
        "            markers=marker_ls, legend=True,\n",
        "            palette=brand_palette,\n",
        "            alpha=.9, hue='Vendor', style='Type',\n",
        "            ax=ax)\n",
        "\n",
        "\n",
        "sns.regplot(data=q1_data,\n",
        "            y=y_ax, x=x_ax, ci=95, scatter=False,\n",
        "            color='xkcd:royal purple', label='Regression Line',\n",
        "            ax=ax)\n",
        "\n",
        "ax.set_xlabel(x_label)\n",
        "ax.set_ylabel(r\"Transistor Count$(log_{10}) \\longrightarrow$\")\n",
        "\n",
        "ax.set_title(r\"Transistor Count$(log_{10})$ vs. Release Year\")\n",
        "\n",
        "ax.legend(ncols=2)\n",
        "\n",
        "plt.show()"
      ],
      "metadata": {
        "execution": {
          "iopub.status.busy": "2023-11-27T04:14:35.280463Z",
          "iopub.execute_input": "2023-11-27T04:14:35.281188Z",
          "iopub.status.idle": "2023-11-27T04:14:36.669828Z",
          "shell.execute_reply.started": "2023-11-27T04:14:35.281144Z",
          "shell.execute_reply": "2023-11-27T04:14:36.668687Z"
        },
        "trusted": true,
        "id": "o1pu_NKEbYne"
      },
      "execution_count": null,
      "outputs": []
    },
    {
      "cell_type": "code",
      "source": [
        "fig, ax = plt.subplots(figsize=(12,6))\n",
        "\n",
        "y_ax = 'transistors_log'\n",
        "\n",
        "sns.barplot(data=q1_data,\n",
        "            y=y_ax, x=x_ax, dodge=True,\n",
        "            width=.5,errorbar=None,\n",
        "            ax=ax)\n",
        "\n",
        "ax.set_xlabel(x_label)\n",
        "ax.set_ylabel(r\"Transistor Count$(log_{10}) \\longrightarrow$\")\n",
        "\n",
        "ax.set_title(r\"Transistor Count$(log_{10})$ vs. Release Year\")\n",
        "\n",
        "ax.legend()\n",
        "\n",
        "plt.show()"
      ],
      "metadata": {
        "jupyter": {
          "source_hidden": true
        },
        "execution": {
          "iopub.status.busy": "2023-11-27T04:14:36.671448Z",
          "iopub.execute_input": "2023-11-27T04:14:36.672205Z",
          "iopub.status.idle": "2023-11-27T04:14:37.237445Z",
          "shell.execute_reply.started": "2023-11-27T04:14:36.672164Z",
          "shell.execute_reply": "2023-11-27T04:14:37.235864Z"
        },
        "trusted": true,
        "id": "77ga3IncbYne"
      },
      "execution_count": null,
      "outputs": []
    },
    {
      "cell_type": "markdown",
      "source": [
        "### Relational Plot between *Process Size* and *Release Year*"
      ],
      "metadata": {
        "id": "vADz3jeQbYne"
      }
    },
    {
      "cell_type": "code",
      "source": [
        "#===============================#\n",
        "# Process Size vs. Release Year #\n",
        "#===============================#\n",
        "\n",
        "fig, ax = plt.subplots(figsize=(10,5))\n",
        "\n",
        "y_ax = 'process_size_nm'\n",
        "\n",
        "sns.scatterplot(data=q1_data,\n",
        "            y=y_ax, x=x_ax,\n",
        "            markers=marker_ls, legend=True,\n",
        "            palette=brand_palette,\n",
        "            alpha=.9, hue='Vendor', style='Type',\n",
        "            ax=ax)\n",
        "\n",
        "sns.regplot(data=q1_data,\n",
        "            y=y_ax, x=x_ax, ci=95, scatter=False,\n",
        "            color='xkcd:pine green', label='Regression Line',\n",
        "            ax=ax)\n",
        "\n",
        "ax.set_xlabel(x_label)\n",
        "ax.set_ylabel(r\"Process Size$(nm) \\longrightarrow$\")\n",
        "ax.set_title(r\"Process Size$(nm)$ vs. Release Year\")\n",
        "\n",
        "ax.legend(ncols=2)\n",
        "\n",
        "plt.show()"
      ],
      "metadata": {
        "jupyter": {
          "source_hidden": true
        },
        "execution": {
          "iopub.status.busy": "2023-11-27T04:14:37.239676Z",
          "iopub.execute_input": "2023-11-27T04:14:37.240336Z",
          "iopub.status.idle": "2023-11-27T04:14:38.37892Z",
          "shell.execute_reply.started": "2023-11-27T04:14:37.240292Z",
          "shell.execute_reply": "2023-11-27T04:14:38.377222Z"
        },
        "trusted": true,
        "id": "Za_l-fdGbYne"
      },
      "execution_count": null,
      "outputs": []
    },
    {
      "cell_type": "code",
      "source": [
        "fig, ax = plt.subplots(figsize=(12,6))\n",
        "\n",
        "y_ax = 'process_size_nm'\n",
        "\n",
        "sns.barplot(data=q1_data,\n",
        "            y=y_ax, x=x_ax, dodge=True,\n",
        "            width=.5, errorbar=None,\n",
        "            ax=ax)\n",
        "\n",
        "ax.set_xlabel(x_label)\n",
        "ax.set_ylabel(r\"Process Size$(nm) \\longrightarrow$\")\n",
        "\n",
        "ax.set_title(r\"Process Size$(nm)$ vs. Release Year\")\n",
        "\n",
        "ax.legend()\n",
        "\n",
        "plt.show()"
      ],
      "metadata": {
        "jupyter": {
          "source_hidden": true
        },
        "execution": {
          "iopub.status.busy": "2023-11-27T04:14:38.380503Z",
          "iopub.execute_input": "2023-11-27T04:14:38.380972Z",
          "iopub.status.idle": "2023-11-27T04:14:38.897081Z",
          "shell.execute_reply.started": "2023-11-27T04:14:38.380942Z",
          "shell.execute_reply": "2023-11-27T04:14:38.896084Z"
        },
        "trusted": true,
        "id": "bHb-gvk2bYne"
      },
      "execution_count": null,
      "outputs": []
    },
    {
      "cell_type": "markdown",
      "source": [
        "### Relational Plot between *Die Size* and *Release Year*"
      ],
      "metadata": {
        "id": "QB6e9qBBbYne"
      }
    },
    {
      "cell_type": "code",
      "source": [
        "#===========================#\n",
        "# Process Size vs. Die Size #\n",
        "#===========================#\n",
        "\n",
        "fig, ax = plt.subplots(figsize=(10,5))\n",
        "\n",
        "y_ax = 'die_size_mm2'\n",
        "\n",
        "sns.scatterplot(data=q1_data,\n",
        "            y=y_ax, x='process_size_nm',\n",
        "            markers=marker_ls, legend='brief',\n",
        "            palette=brand_palette,\n",
        "            alpha=.6, hue='Vendor', style='Type',\n",
        "            ax=ax)\n",
        "\n",
        "sns.regplot(data=q1_data,\n",
        "            y=y_ax, x='process_size_nm', ci=95, scatter=False,\n",
        "            color='xkcd:bordeaux', robust=True, label='Regression Line',\n",
        "            ax=ax)\n",
        "\n",
        "ax.set_ylabel(r\"Die Size$(nm) \\longrightarrow$\")\n",
        "ax.set_xlabel(r\"Process Size$(nm) \\longrightarrow$\")\n",
        "ax.set_title(r\"Process Size$(nm)$ vs. Die Size$(mm^2)$\")\n",
        "\n",
        "ax.legend(ncols=2)\n",
        "\n",
        "plt.show()"
      ],
      "metadata": {
        "jupyter": {
          "source_hidden": true
        },
        "execution": {
          "iopub.status.busy": "2023-11-27T04:14:38.898578Z",
          "iopub.execute_input": "2023-11-27T04:14:38.899312Z",
          "iopub.status.idle": "2023-11-27T04:15:19.830771Z",
          "shell.execute_reply.started": "2023-11-27T04:14:38.899275Z",
          "shell.execute_reply": "2023-11-27T04:15:19.829271Z"
        },
        "trusted": true,
        "id": "azCLiz2tbYne"
      },
      "execution_count": null,
      "outputs": []
    },
    {
      "cell_type": "code",
      "source": [
        "corr_df = df.loc[:,['process_size_nm','die_size_mm2','Type','rel_year','freq_mhz']].copy()\n",
        "corr_df.Type = corr_df.Type.astype(str).map({'CPU': 0, 'GPU': 1})\n",
        "\n",
        "corr = corr_df.corr()\n",
        "\n",
        "ax = sns.heatmap(data=corr, center=0,\n",
        "            square=True, linewidths=.4,\n",
        "            annot=True, cmap='crest')\n",
        "\n",
        "ax.set_xticklabels(['Process Size$(nm)$', 'Die Size$(mm^2)$','Type','Release Year','Frequency$(MHz)$'])\n",
        "ax.set_yticklabels(['Process Size$(nm)$', 'Die Size$(mm^2)$','Type','Release Year','Frequency$(MHz)$'])\n",
        "plt.show()"
      ],
      "metadata": {
        "jupyter": {
          "source_hidden": true
        },
        "execution": {
          "iopub.status.busy": "2023-11-27T04:15:19.832486Z",
          "iopub.execute_input": "2023-11-27T04:15:19.832836Z",
          "iopub.status.idle": "2023-11-27T04:15:20.506671Z",
          "shell.execute_reply.started": "2023-11-27T04:15:19.832799Z",
          "shell.execute_reply": "2023-11-27T04:15:20.505104Z"
        },
        "trusted": true,
        "id": "Fff5Dkg4bYnf"
      },
      "execution_count": null,
      "outputs": []
    },
    {
      "cell_type": "code",
      "source": [
        "fig, ax = plt.subplots(figsize=(12,6))\n",
        "\n",
        "sns.scatterplot(df,x='rel_year',y='freq_mhz',hue='Type',markers='.',ax=ax)\n",
        "sns.regplot(df,x='rel_year',y='freq_mhz',color='xkcd:pine green',scatter=False,ax=ax)\n",
        "\n",
        "ax.set_xlabel('Release Year')\n",
        "ax.set_ylabel('Frequency$(MHz)$')\n",
        "\n",
        "plt.show()"
      ],
      "metadata": {
        "jupyter": {
          "source_hidden": true
        },
        "execution": {
          "iopub.status.busy": "2023-11-27T04:15:20.508968Z",
          "iopub.execute_input": "2023-11-27T04:15:20.509449Z",
          "iopub.status.idle": "2023-11-27T04:15:21.56545Z",
          "shell.execute_reply.started": "2023-11-27T04:15:20.509416Z",
          "shell.execute_reply": "2023-11-27T04:15:21.563979Z"
        },
        "trusted": true,
        "id": "lLAf3p8JbYnf"
      },
      "execution_count": null,
      "outputs": []
    },
    {
      "cell_type": "code",
      "source": [
        "df_fd = pd.DataFrame()\n",
        "df_fd['Count'] = df.Foundry.value_counts().sort_values(ascending=False)\n",
        "df_fd['Brand'] = df.Foundry.value_counts().sort_values(ascending=False).index\n",
        "\n",
        "fig = px.pie(df_fd, values='Count', names='Brand', title='Chip Manufacturer Stakes')\n",
        "fig.update_traces(textposition='inside')\n",
        "fig.update_layout(uniformtext_minsize=12, uniformtext_mode='hide')\n",
        "fig.show()"
      ],
      "metadata": {
        "execution": {
          "iopub.status.busy": "2023-11-27T04:20:57.165054Z",
          "iopub.execute_input": "2023-11-27T04:20:57.165514Z",
          "iopub.status.idle": "2023-11-27T04:20:57.24263Z",
          "shell.execute_reply.started": "2023-11-27T04:20:57.165481Z",
          "shell.execute_reply": "2023-11-27T04:20:57.241425Z"
        },
        "jupyter": {
          "source_hidden": true
        },
        "trusted": true,
        "id": "tBGDFdl9bYnf"
      },
      "execution_count": null,
      "outputs": []
    },
    {
      "cell_type": "code",
      "source": [
        "fig = px.scatter_3d(df, x='process_size_nm', y='die_size_mm2', z='transistors_10e6',\n",
        "              color='Vendor')\n",
        "fig.show()"
      ],
      "metadata": {
        "execution": {
          "iopub.status.busy": "2023-11-27T05:10:46.477644Z",
          "iopub.execute_input": "2023-11-27T05:10:46.47814Z",
          "iopub.status.idle": "2023-11-27T05:10:46.679837Z",
          "shell.execute_reply.started": "2023-11-27T05:10:46.478096Z",
          "shell.execute_reply": "2023-11-27T05:10:46.678259Z"
        },
        "trusted": true,
        "id": "LkhaLCRLbYnf"
      },
      "execution_count": null,
      "outputs": []
    }
  ]
}