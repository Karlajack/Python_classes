{
  "metadata": {
    "kernelspec": {
      "language": "python",
      "display_name": "Python 3",
      "name": "python3"
    },
    "language_info": {
      "pygments_lexer": "ipython3",
      "nbconvert_exporter": "python",
      "version": "3.6.4",
      "file_extension": ".py",
      "codemirror_mode": {
        "name": "ipython",
        "version": 3
      },
      "name": "python",
      "mimetype": "text/x-python"
    },
    "colab": {
      "name": "Advance Data Preprocessing",
      "provenance": [],
      "include_colab_link": true
    }
  },
  "nbformat_minor": 0,
  "nbformat": 4,
  "cells": [
    {
      "cell_type": "markdown",
      "metadata": {
        "id": "view-in-github",
        "colab_type": "text"
      },
      "source": [
        "<a href=\"https://colab.research.google.com/github/Karlajack/Python_classes/blob/main/Advance_Data_Preprocessing.ipynb\" target=\"_parent\"><img src=\"https://colab.research.google.com/assets/colab-badge.svg\" alt=\"Open In Colab\"/></a>"
      ]
    },
    {
      "source": [
        "\n",
        "# IMPORTANT: RUN THIS CELL IN ORDER TO IMPORT YOUR KAGGLE DATA SOURCES\n",
        "# TO THE CORRECT LOCATION (/kaggle/input) IN YOUR NOTEBOOK,\n",
        "# THEN FEEL FREE TO DELETE THIS CELL.\n",
        "# NOTE: THIS NOTEBOOK ENVIRONMENT DIFFERS FROM KAGGLE'S PYTHON\n",
        "# ENVIRONMENT SO THERE MAY BE MISSING LIBRARIES USED BY YOUR\n",
        "# NOTEBOOK.\n",
        "\n",
        "import os\n",
        "import sys\n",
        "from tempfile import NamedTemporaryFile\n",
        "from urllib.request import urlopen\n",
        "from urllib.parse import unquote, urlparse\n",
        "from urllib.error import HTTPError\n",
        "from zipfile import ZipFile\n",
        "import tarfile\n",
        "import shutil\n",
        "\n",
        "CHUNK_SIZE = 40960\n",
        "DATA_SOURCE_MAPPING = 'titanic:https%3A%2F%2Fstorage.googleapis.com%2Fkaggle-competitions-data%2Fkaggle-v2%2F3136%2F26502%2Fbundle%2Farchive.zip%3FX-Goog-Algorithm%3DGOOG4-RSA-SHA256%26X-Goog-Credential%3Dgcp-kaggle-com%2540kaggle-161607.iam.gserviceaccount.com%252F20240429%252Fauto%252Fstorage%252Fgoog4_request%26X-Goog-Date%3D20240429T103117Z%26X-Goog-Expires%3D259200%26X-Goog-SignedHeaders%3Dhost%26X-Goog-Signature%3D22c389643dbb81c235958e4740f1cdc3491ca833b0f0afdaaf928ad38e714251fb07b5ebce902e0412c21de9e4c12446e3d77d9653ec32c61233b69d934dae0271edd93bcdc6d9b3af612b0e5042747557ce2f7d1efa9d54ea7a412507d5ecfc57689e5399a35700bfa665e2d4562de51c28923b5a1fbc78ab3bf3c811196e999b3f8d37abbdb251c90198e2030ce8736f777b554c47d0d607fb2831d1cbd856b4ea8ff49867db4470186f01f6fa6c82ce59cdf7c3da0c318194027cd8e3ad6298077a2fd9ffe03fcabd09a9a6bd48a30da370618862b61cde9a5a0b8c5e5f2412ddb4a78b7dd6d2b8bc3a2083ff80de889f979f20a40b0fdfd5e93a9665b5d9,california-housing-prices:https%3A%2F%2Fstorage.googleapis.com%2Fkaggle-data-sets%2F5227%2F7876%2Fbundle%2Farchive.zip%3FX-Goog-Algorithm%3DGOOG4-RSA-SHA256%26X-Goog-Credential%3Dgcp-kaggle-com%2540kaggle-161607.iam.gserviceaccount.com%252F20240429%252Fauto%252Fstorage%252Fgoog4_request%26X-Goog-Date%3D20240429T103117Z%26X-Goog-Expires%3D259200%26X-Goog-SignedHeaders%3Dhost%26X-Goog-Signature%3D5be90a802a01b380069d5ce6ba5dce4c3f0546e6cc7b15ea5644fe68daadb73c0ffc8f673112ea9e06bf70ad951c46552a07638b1a087c21aee6c87a0036dfced99dd483c62629da513941b293a48a916441b751cd57678c4b1de7ee986bee094aba2e068ba7efec8d4fc91edde8bbf210aeb3a16b3c07c4bce614f4e1b4dd99623b17a65ac62746c5d867a50789749e4659b96e217b82a27e0fe02c1bac7dbeb1f3e7e1fcdbf41b24f0cac6468270b0c1f39f74426366dd674616df2f595526ce0e8ae684e0b0fcd8a3225cc39359f9b9f4b6a1475f95914071d63316a9e2818590673c99e3d27876dd2ffbc63e60489887e0e7f61f5dcd00d1eda38d80a555,creditcardfraud:https%3A%2F%2Fstorage.googleapis.com%2Fkaggle-data-sets%2F310%2F23498%2Fbundle%2Farchive.zip%3FX-Goog-Algorithm%3DGOOG4-RSA-SHA256%26X-Goog-Credential%3Dgcp-kaggle-com%2540kaggle-161607.iam.gserviceaccount.com%252F20240429%252Fauto%252Fstorage%252Fgoog4_request%26X-Goog-Date%3D20240429T103117Z%26X-Goog-Expires%3D259200%26X-Goog-SignedHeaders%3Dhost%26X-Goog-Signature%3D97c6fd95ca5587eca2f9773356885cfc05441cfdea1997d22c12d864b939763626b6c289aacd769522d7a517df19a743b5b6c9e78d60fc2c42a5f8331bee6b8ad3b0f45ddd6b2a642d41ac6f47d9c2fe05da5678ba68820c9c38488e6c4eab286f6325b8809e50a4969023d19bab5178aa4f34cd79bd814cc3dccc1322ed18ed93ae2d0910fbcd7d7470f9a5a1cafd29993bcc9dba72347388e918323ac82dcdd4d296962fd1e7f460fe7fd4de9463d6608f13e1ca21779c89f58de6557fe093feb3312f13cfbab7e554f89f1a95990306f758e05dbd2a4c8bb5e65b9cce54caa3051ae71e5c1b983e97d48c6678e45f7ba32bbf614f7b2b3bd18a8590a44f16,melbourne-housing-snapshot:https%3A%2F%2Fstorage.googleapis.com%2Fkaggle-data-sets%2F2709%2F38454%2Fbundle%2Farchive.zip%3FX-Goog-Algorithm%3DGOOG4-RSA-SHA256%26X-Goog-Credential%3Dgcp-kaggle-com%2540kaggle-161607.iam.gserviceaccount.com%252F20240429%252Fauto%252Fstorage%252Fgoog4_request%26X-Goog-Date%3D20240429T103117Z%26X-Goog-Expires%3D259200%26X-Goog-SignedHeaders%3Dhost%26X-Goog-Signature%3D4a239d34b0455130b8dd3b90561fb71696a1086ffcbe283fb4b37589de1c81971c4f7b969d0d0328d88b385b68439e8b38129bd1383cec6cd75b3edac6c2d7f8c5cf73a60d06859d7fd3eba5fae4d1cb7495846aa89215bccdc9736c28f2d04e2a9aab5bf2fa43b86114c4c8b3828dad555d6522a8a872d26edcb9d1a369e2e2af533eb8340cf1126024aa6a275b119eb59837a0f35107e36a045fc0dad82bbf4a01b527ccaf9d093102da93b2936656ce492d12818bb3729220a11fa3749dbbc13438c4bc782ef1a3961a5b6afd806c1255d363ffc1e40284d5902502008bc4376bc71ec8f2158f9d71e432519f3c38049d622769ff631ffe68141d94afc627,loan-defaulter:https%3A%2F%2Fstorage.googleapis.com%2Fkaggle-data-sets%2F807638%2F1383922%2Fbundle%2Farchive.zip%3FX-Goog-Algorithm%3DGOOG4-RSA-SHA256%26X-Goog-Credential%3Dgcp-kaggle-com%2540kaggle-161607.iam.gserviceaccount.com%252F20240429%252Fauto%252Fstorage%252Fgoog4_request%26X-Goog-Date%3D20240429T103118Z%26X-Goog-Expires%3D259200%26X-Goog-SignedHeaders%3Dhost%26X-Goog-Signature%3D186ba733b5b0b31256e9a0305c229a17e4dee7a2fe75315bed8b738c764461f337ee38a68409fb04499800a0b473527f4ec33f9dffb1a4b0b4832356445e1524116ceffe5506512c8034267fa8940db49be4adaf056cded581a45adc1f7f5b4ac78f693abfb0b25a0358789d56c3fe0814a65b5163cb8d8e01512d7d7e9ad3486b282dbf5d427f56fdbfb3d71606b3e859ae0634f6465bcc50d2e152232c80964aab50ef87e4581d73dce8fb3b059d2317a13de2aca5993d1c7440ffeb2e6b7b6fbf00bfe54b34a3a5e0651dc1ea1ade7016dab6b47a749bd76895440235c80434d123e41d2205f3425854d96509f9a365a5671a58fe28c177f24013c63b4f62,credit-card-customers:https%3A%2F%2Fstorage.googleapis.com%2Fkaggle-data-sets%2F982921%2F1660340%2Fbundle%2Farchive.zip%3FX-Goog-Algorithm%3DGOOG4-RSA-SHA256%26X-Goog-Credential%3Dgcp-kaggle-com%2540kaggle-161607.iam.gserviceaccount.com%252F20240429%252Fauto%252Fstorage%252Fgoog4_request%26X-Goog-Date%3D20240429T103118Z%26X-Goog-Expires%3D259200%26X-Goog-SignedHeaders%3Dhost%26X-Goog-Signature%3D80d0d15bdf209708b899207f184b56e7793064101082d174f7079185461da7a21cf1ea9d0801fdd3c897a01a7637b0b2c85db949ea517eb0033ee6187ebd8fd80f2a1f763a978eb9fc0bd1b45339281fb24dd5512264d011657650e4381a64ed9becd1cd424bffd6bec3810abbe247fe742ef0c77fdd39b5200cc7189f755b719b06998e80cd8e5ca49400870daf8a9806d758daa8ee80da8c10a8bb37c8e5577789427f997c80d6d9d97773502a29fbd9904c8e5c2c51c3ad4ea4ca8b7b819c03a22d479752ef2ed4792fdc83b50f05ba5d2eb75ad49e13bf76a989854ed5f712a77604abe35a1df6b375398275c1eba4cfae9dfff1c4ce595e34bcbaad7c93,hr-analytics-job-change-of-data-scientists:https%3A%2F%2Fstorage.googleapis.com%2Fkaggle-data-sets%2F1019790%2F1719283%2Fbundle%2Farchive.zip%3FX-Goog-Algorithm%3DGOOG4-RSA-SHA256%26X-Goog-Credential%3Dgcp-kaggle-com%2540kaggle-161607.iam.gserviceaccount.com%252F20240429%252Fauto%252Fstorage%252Fgoog4_request%26X-Goog-Date%3D20240429T103118Z%26X-Goog-Expires%3D259200%26X-Goog-SignedHeaders%3Dhost%26X-Goog-Signature%3D8a67ca949183749b2aebf8a453570de1f973bad54263e428fb5df1efce6e0303f0af58c2f16dda073e47d2aca85fc7eb24bdd27fd3ab828eabc321c8902b80a3f272150bd5bd0a781a01f0a9161059cb6ae5cc2ec4c6fa276700b536ba27155bd3315db01232221966bae4abdd0b168a07e14c454f5bad497687faaa760754bed6e35dd7b2ae9ce5b272c1fd593e8a86421a3220c801823e17c64a2c8f305d7183ecaf7ceb2089b933b3b72906b011038c3668954b540891fbf370dec2160ce1288db9c40f8dbe12b794b108ef96c56fe83783ae9d3084ea3fce9751b0f79bcd36e85ee07c91d8833aea7674bbe2acb944baa3831e4c0aff3723d6dcc2a99126,loan-default-dataset:https%3A%2F%2Fstorage.googleapis.com%2Fkaggle-data-sets%2F1897041%2F3106815%2Fbundle%2Farchive.zip%3FX-Goog-Algorithm%3DGOOG4-RSA-SHA256%26X-Goog-Credential%3Dgcp-kaggle-com%2540kaggle-161607.iam.gserviceaccount.com%252F20240429%252Fauto%252Fstorage%252Fgoog4_request%26X-Goog-Date%3D20240429T103118Z%26X-Goog-Expires%3D259200%26X-Goog-SignedHeaders%3Dhost%26X-Goog-Signature%3D9d46865213a94d274fbae84dcf0e08be44c09341325a4cb08009c383dce5a336f7f2d1603f66d56e9351ae0e3f6a7dd349021f53768e1dd1ffd16f040ede4d556ce7c60752fd643bc785a079eef89607ff87c89a29e56f54e19236739a7900be63f4c06bf90a684a20d22783b6ea3acadd2d73d71096fef4360059f8d92a0b413841399d01d8136e6c6978dc6e4ca1afe1c15821c5ebb2cba2d67651644d1707c80edb1f393b23cf53145e2c8e26631fcda22a8e3f86705bb73448da7db576728dd44bb5eb154b809cb9242137c1224f23e05b5dec90be32256389085449b06461eb6abaf22d5068a9f4f144ed7cf9fe8f814ba592df210aaa45888bb999c477,personal-key-indicators-of-heart-disease:https%3A%2F%2Fstorage.googleapis.com%2Fkaggle-data-sets%2F1936563%2F3191579%2Fbundle%2Farchive.zip%3FX-Goog-Algorithm%3DGOOG4-RSA-SHA256%26X-Goog-Credential%3Dgcp-kaggle-com%2540kaggle-161607.iam.gserviceaccount.com%252F20240429%252Fauto%252Fstorage%252Fgoog4_request%26X-Goog-Date%3D20240429T103118Z%26X-Goog-Expires%3D259200%26X-Goog-SignedHeaders%3Dhost%26X-Goog-Signature%3D7d0edac928ce610c01e0a60a69ea8921edb564d3c1f00f0d409ffae981dac4b90bca95c9f22554ce8845f7c3aadbe4c836c6055f0018c944ac0e61d8c9851d8d2046d8ecca579d82fd56bb62a55ef847e7c75f5bfa70282bfccca38c258ac53d7efc1735238f9ce181012578072c52bc14198f2679cb1fec0c38ac214aedb4da0a75d7f2ef803217944d9e21b43c32bbccf1e7bfad42c52fe7d93acce5bea18a1dd4e01ffabd41dd3b1f2a323f0ed5ad833fdae6e3ecff5d1889cd625dd19ed5f2d5d7413007a7b00281e53d303cb21caabb6c247b14c49a44cedde81f49558af7d306d4187dd9d39ad49ea601dae7c92c463237950a20f894eb443aedabe023,latest-laptop-price-list:https%3A%2F%2Fstorage.googleapis.com%2Fkaggle-data-sets%2F2037622%2F3402351%2Fbundle%2Farchive.zip%3FX-Goog-Algorithm%3DGOOG4-RSA-SHA256%26X-Goog-Credential%3Dgcp-kaggle-com%2540kaggle-161607.iam.gserviceaccount.com%252F20240429%252Fauto%252Fstorage%252Fgoog4_request%26X-Goog-Date%3D20240429T103118Z%26X-Goog-Expires%3D259200%26X-Goog-SignedHeaders%3Dhost%26X-Goog-Signature%3D5e7b1ea1aefd500cb8f36947089ff328301b489194a1cee2790f58b83a0e64b38ed385f3cb9a3646d48c5aef3a2e32ba759b66e06a26aaa1074e4e55832db0b43cb5467945ab852c30849bb6a9a4f7f8d6c92bad86d546d83cd942944dc8d16ff5963313f2f24e7c70794e077e51d203a186c0a325347c65f34c3182f143a4a0350168d8c7409500f8f79ec20b598a00e335529a202221c913929a69337768bf48c0ba0f5a096fb9504b87d274d80e1d09c2a7f7fe06cdc90e7d9c4e00bed0888b68f58edb71e8ed2a670bde1a8ae93dcf19813b1c7c916c1b5ffb9506bc04808076d1027a1bc52726ea5d9ad1b80e8e6145d02871de1083cb86a19f0909f727,cost-of-living-index-2022:https%3A%2F%2Fstorage.googleapis.com%2Fkaggle-data-sets%2F2027131%2F3430638%2Fbundle%2Farchive.zip%3FX-Goog-Algorithm%3DGOOG4-RSA-SHA256%26X-Goog-Credential%3Dgcp-kaggle-com%2540kaggle-161607.iam.gserviceaccount.com%252F20240429%252Fauto%252Fstorage%252Fgoog4_request%26X-Goog-Date%3D20240429T103118Z%26X-Goog-Expires%3D259200%26X-Goog-SignedHeaders%3Dhost%26X-Goog-Signature%3D2bab40057351db05bfef262fd2d44e43652db176e9377e8f9cf7ff5f3f0b7ccae0c2c6bdf7266bdb414d2a2c66755e23be5e4585ae00b34dce834dfc163cf0d176f3afcf79b0521f10cfd0364511a68f879bd8a1f4c3ae175b21196beb584dee5230d7326d8653b1c8f22d2acefdb78f31be1feb89cd033ac6bee3e6675e3643e4d08f8c0c179e56c57cb9fa6e10a6af66f8deedf780541d250cec936dcc3a34d2ab17f1395b733b1cd015ecab0bb2823bb60fb47bb8bd2cded71531f3d4f126d5ae41934c7bfeab87d1310db8f60e7bb716ef6066919bec842d546c13e0b81742c33f49909903f38458fdc743ad88e79bec75ac9d0e0935889a22cdbff49af6,historical-commodity-prices-from-20002022:https%3A%2F%2Fstorage.googleapis.com%2Fkaggle-data-sets%2F2040950%2F3432853%2Fbundle%2Farchive.zip%3FX-Goog-Algorithm%3DGOOG4-RSA-SHA256%26X-Goog-Credential%3Dgcp-kaggle-com%2540kaggle-161607.iam.gserviceaccount.com%252F20240429%252Fauto%252Fstorage%252Fgoog4_request%26X-Goog-Date%3D20240429T103118Z%26X-Goog-Expires%3D259200%26X-Goog-SignedHeaders%3Dhost%26X-Goog-Signature%3D081850404897a3647b5d86668239ead4cd3164154869b6d03037a2e32aecd5188c0a13521249d6d5258424a4657d3a6be085a29f5aa780bc35e3284a8a98abcfe60389bf41c6cb8e6017c59623bb0d8a17f65924477e2898f8d00fc92caf0411f7f15b569917a46e67e0556298971ff277e7c2e5f290a10d0c71ac377cc806633912f5695ea2b7fd9d765bdf15118d59724771a6916d1941750aaed382d2b28c2833fb21a878d50357e54ca84f327719c470785c38eaaa65b003977cb001e0acbd30474d3c3b186f148ea009404860f7959ffc4d3df250526219ac00c3a3f89298255d6ced61470c7fc3334b39a08e03f312b45920c6e45bcca46c3bcd83fb1e'\n",
        "\n",
        "KAGGLE_INPUT_PATH='/kaggle/input'\n",
        "KAGGLE_WORKING_PATH='/kaggle/working'\n",
        "KAGGLE_SYMLINK='kaggle'\n",
        "\n",
        "!umount /kaggle/input/ 2> /dev/null\n",
        "shutil.rmtree('/kaggle/input', ignore_errors=True)\n",
        "os.makedirs(KAGGLE_INPUT_PATH, 0o777, exist_ok=True)\n",
        "os.makedirs(KAGGLE_WORKING_PATH, 0o777, exist_ok=True)\n",
        "\n",
        "try:\n",
        "  os.symlink(KAGGLE_INPUT_PATH, os.path.join(\"..\", 'input'), target_is_directory=True)\n",
        "except FileExistsError:\n",
        "  pass\n",
        "try:\n",
        "  os.symlink(KAGGLE_WORKING_PATH, os.path.join(\"..\", 'working'), target_is_directory=True)\n",
        "except FileExistsError:\n",
        "  pass\n",
        "\n",
        "for data_source_mapping in DATA_SOURCE_MAPPING.split(','):\n",
        "    directory, download_url_encoded = data_source_mapping.split(':')\n",
        "    download_url = unquote(download_url_encoded)\n",
        "    filename = urlparse(download_url).path\n",
        "    destination_path = os.path.join(KAGGLE_INPUT_PATH, directory)\n",
        "    try:\n",
        "        with urlopen(download_url) as fileres, NamedTemporaryFile() as tfile:\n",
        "            total_length = fileres.headers['content-length']\n",
        "            print(f'Downloading {directory}, {total_length} bytes compressed')\n",
        "            dl = 0\n",
        "            data = fileres.read(CHUNK_SIZE)\n",
        "            while len(data) > 0:\n",
        "                dl += len(data)\n",
        "                tfile.write(data)\n",
        "                done = int(50 * dl / int(total_length))\n",
        "                sys.stdout.write(f\"\\r[{'=' * done}{' ' * (50-done)}] {dl} bytes downloaded\")\n",
        "                sys.stdout.flush()\n",
        "                data = fileres.read(CHUNK_SIZE)\n",
        "            if filename.endswith('.zip'):\n",
        "              with ZipFile(tfile) as zfile:\n",
        "                zfile.extractall(destination_path)\n",
        "            else:\n",
        "              with tarfile.open(tfile.name) as tarfile:\n",
        "                tarfile.extractall(destination_path)\n",
        "            print(f'\\nDownloaded and uncompressed: {directory}')\n",
        "    except HTTPError as e:\n",
        "        print(f'Failed to load (likely expired) {download_url} to path {destination_path}')\n",
        "        continue\n",
        "    except OSError as e:\n",
        "        print(f'Failed to load {download_url} to path {destination_path}')\n",
        "        continue\n",
        "\n",
        "print('Data source import complete.')\n"
      ],
      "metadata": {
        "id": "Y4gAzoJhaMCM"
      },
      "cell_type": "code",
      "outputs": [],
      "execution_count": null
    },
    {
      "cell_type": "markdown",
      "source": [
        " <h1 style=\"text-align: center;\" class=\"list-group-item list-group-item-action active\">Table of Contents</h1>\n",
        "\n",
        "<ul style=\"list-style-type:none;\">\n",
        "        <li><a class=\"list-group-item list-group-item-action\" data-toggle=\"list\" href=\"#1\" role=\"tab\"\n",
        "                aria-controls=\"settings\">1. Introduction<span class=\"badge badge-primary badge-pill\">1</span></a>\n",
        "        </li>\n",
        "        <li><a class=\"list-group-item list-group-item-action\" data-toggle=\"list\" href=\"#2\" role=\"tab\"\n",
        "                aria-controls=\"settings\">2. Handling Missing Values<span\n",
        "                    class=\"badge badge-primary badge-pill\">2</span></a>\n",
        "            <ul style=\"list-style-type:none;\">\n",
        "                <li><a class=\"list-group-item list-group-item-action\" data-toggle=\"list\" href=\"#2.1\" role=\"tab\"\n",
        "                        aria-controls=\"settings\">2.1 Visualizing Missing Data <span\n",
        "                            class=\"badge badge-primary badge-pill\">3</span></a>\n",
        "                    <ul style=\"list-style-type:none;\">\n",
        "                        <li><a class=\"list-group-item list-group-item-action\" data-toggle=\"list\" href=\"#2.1.1\"\n",
        "                                role=\"tab\" aria-controls=\"settings\">2.1.1 Matrix <span\n",
        "                                    class=\"badge badge-primary badge-pill\">4</span></a></li>\n",
        "                        <li><a class=\"list-group-item list-group-item-action\" data-toggle=\"list\" href=\"#2.1.2\"\n",
        "                                role=\"tab\" aria-controls=\"settings\">2.1.2 Correlation Heatmap <span\n",
        "                                    class=\"badge badge-primary badge-pill\">5</span></a></li>\n",
        "                        <li><a class=\"list-group-item list-group-item-action\" data-toggle=\"list\" href=\"#2.1.3\"\n",
        "                                role=\"tab\" aria-controls=\"settings\">2.1.3 Dendrogram <span\n",
        "                                    class=\"badge badge-primary badge-pill\">6</span></a></li>\n",
        "                        <li><a class=\"list-group-item list-group-item-action\" data-toggle=\"list\" href=\"#2.1.4\"\n",
        "                                role=\"tab\" aria-controls=\"settings\">2.1.4 Simple Numeric Summaries<span\n",
        "                                    class=\"badge badge-primary badge-pill\">7</span></a></li>\n",
        "                    </ul>\n",
        "                </li>\n",
        "                <li><a class=\"list-group-item list-group-item-action\" data-toggle=\"list\" href=\"#2.2\" role=\"tab\"\n",
        "                        aria-controls=\"settings\">2.2 Method to Handle Missing Data<span\n",
        "                            class=\"badge badge-primary badge-pill\">8</span></a>\n",
        "                    <ul style=\"list-style-type:none;\">\n",
        "                        <li><a class=\"list-group-item list-group-item-action\" data-toggle=\"list\" href=\"#2.2.1\"\n",
        "                                role=\"tab\" aria-controls=\"settings\">2.2.1 Deletion of Data <span\n",
        "                                    class=\"badge badge-primary badge-pill\">9</span></a></li>\n",
        "                        <li><a class=\"list-group-item list-group-item-action\" data-toggle=\"list\" href=\"#2.2.2\"\n",
        "                                role=\"tab\" aria-controls=\"settings\">2.2.2 Encoding Missingness<span\n",
        "                                    class=\"badge badge-primary badge-pill\">10</span></a></li>\n",
        "                        <li><a class=\"list-group-item list-group-item-action\" data-toggle=\"list\" href=\"#2.2.3\"\n",
        "                                role=\"tab\" aria-controls=\"settings\">2.2.3 Imputation Methods<span\n",
        "                                    class=\"badge badge-primary badge-pill\">11</span></a></li>\n",
        "                    </ul>\n",
        "                </li>\n",
        "            </ul>\n",
        "        </li>\n",
        "        <li><a class=\"list-group-item list-group-item-action\" data-toggle=\"list\" href=\"#3\" role=\"tab\"\n",
        "                aria-controls=\"settings\">3. Encoding Categorical Attributes<span\n",
        "                    class=\"badge badge-primary badge-pill\">12</span></a>\n",
        "            <ul style=\"list-style-type:none;\">\n",
        "                <li><a class=\"list-group-item list-group-item-action\" data-toggle=\"list\" href=\"#3.1\" role=\"tab\"\n",
        "                        aria-controls=\"settings\">3.1 Supervised Encoding Methods <span\n",
        "                            class=\"badge badge-primary badge-pill\">13</span></a>\n",
        "                    <ul style=\"list-style-type:none;\">\n",
        "                        <li><a class=\"list-group-item list-group-item-action\" data-toggle=\"list\" href=\"#3.1.1\"\n",
        "                                role=\"tab\" aria-controls=\"settings\">3.1.1 Likelihood Encoding <span\n",
        "                                    class=\"badge badge-primary badge-pill\">14</span></a></li>\n",
        "                        <li><a class=\"list-group-item list-group-item-action\" data-toggle=\"list\" href=\"#3.1.2\"\n",
        "                                role=\"tab\" aria-controls=\"settings\">3.1.2 Target Encoding <span\n",
        "                                    class=\"badge badge-primary badge-pill\">15</span></a></li>\n",
        "                        <li><a class=\"list-group-item list-group-item-action\" data-toggle=\"list\" href=\"#3.1.3\"\n",
        "                                role=\"tab\" aria-controls=\"settings\">3.1.3 Deep Learning Methods <span\n",
        "                                    class=\"badge badge-primary badge-pill\">16</span></a></li>\n",
        "                    </ul>\n",
        "                </li>\n",
        "                <li><a class=\"list-group-item list-group-item-action\" data-toggle=\"list\" href=\"#3.2\" role=\"tab\"\n",
        "                        aria-controls=\"settings\">3.2 Approaches for Novel Categories<span\n",
        "                            class=\"badge badge-primary badge-pill\">17</span></a>\n",
        "            </ul>\n",
        "        </li>\n",
        "        <li><a class=\"list-group-item list-group-item-action\" data-toggle=\"list\" href=\"#4\" role=\"tab\"\n",
        "            aria-controls=\"settings\">4. References <span\n",
        "                class=\"badge badge-primary badge-pill\">18</span></a> </li>\n",
        "\n",
        "\n",
        " </ul>\n"
      ],
      "metadata": {
        "id": "XKdSyxnOaMCS"
      }
    },
    {
      "cell_type": "markdown",
      "source": [
        "\n",
        "<h1  style=\"text-align: center\" class=\"list-group-item list-group-item-action active\">1. Introduction</h1><a id = \"1\" ></a>\n",
        "\n",
        "\n",
        "\n",
        "We all know the Importance of good features for machine learning models. In Machine learning task we have features which we need to process to make them good and this is done by data preprocessing  tasks.\n",
        "\n",
        "**Data Preprocessing** : Data preprocessing is a process of preparing the raw data and making it suitable for a machine learning model. It is the first and crucial step while creating a machine learning model. When creating a machine learning project, it is not always a case that we come across the clean and formatted data. And while doing any operation with data, it is mandatory to clean it and put in a formatted way. So for this, we use data preprocessing task.\n",
        "\n",
        "A real-world data generally contains noises, missing values, and maybe in an unusable format which cannot be directly used for machine learning models. Data preprocessing is required tasks for cleaning the data and making it suitable for a machine learning model which also increases the accuracy and efficiency of a machine learning model.\n",
        "\n",
        "Data Preprocessing involves below steps:\n",
        "\n",
        "- Getting the dataset\n",
        "- Importing libraries\n",
        "- Importing datasets\n",
        "- Finding Missing Data\n",
        "- Encoding Categorical Data\n",
        "\n",
        "Many of us know traditional approaches for above listed steps but in this notebook I will discuss some different approaches which could be game changer for your next project."
      ],
      "metadata": {
        "id": "mXtjeOy9aMCU"
      }
    },
    {
      "cell_type": "code",
      "source": [
        "import pandas as pd\n",
        "import numpy as np\n",
        "import matplotlib.pyplot as plt"
      ],
      "metadata": {
        "execution": {
          "iopub.status.busy": "2022-04-14T14:01:45.06426Z",
          "iopub.execute_input": "2022-04-14T14:01:45.064581Z",
          "iopub.status.idle": "2022-04-14T14:01:45.069835Z",
          "shell.execute_reply.started": "2022-04-14T14:01:45.064548Z",
          "shell.execute_reply": "2022-04-14T14:01:45.06869Z"
        },
        "trusted": true,
        "id": "PpGXThcQaMCU"
      },
      "execution_count": null,
      "outputs": []
    },
    {
      "cell_type": "code",
      "source": [
        "df = pd.read_csv(\"../input/loan-default-dataset/Loan_Default.csv\")\n",
        "df.head()"
      ],
      "metadata": {
        "execution": {
          "iopub.status.busy": "2022-04-14T14:01:45.122387Z",
          "iopub.execute_input": "2022-04-14T14:01:45.123303Z",
          "iopub.status.idle": "2022-04-14T14:01:46.272317Z",
          "shell.execute_reply.started": "2022-04-14T14:01:45.123264Z",
          "shell.execute_reply": "2022-04-14T14:01:46.271138Z"
        },
        "trusted": true,
        "id": "DN4SxVfyaMCU"
      },
      "execution_count": null,
      "outputs": []
    },
    {
      "cell_type": "code",
      "source": [
        "df.info()"
      ],
      "metadata": {
        "execution": {
          "iopub.status.busy": "2022-04-14T14:01:46.274288Z",
          "iopub.execute_input": "2022-04-14T14:01:46.274925Z",
          "iopub.status.idle": "2022-04-14T14:01:46.583546Z",
          "shell.execute_reply.started": "2022-04-14T14:01:46.274884Z",
          "shell.execute_reply": "2022-04-14T14:01:46.582366Z"
        },
        "trusted": true,
        "id": "mstoe71XaMCV"
      },
      "execution_count": null,
      "outputs": []
    },
    {
      "cell_type": "markdown",
      "source": [
        "<h1  style=\"text-align: center\" class=\"list-group-item list-group-item-action active\">2. Handling Missing Values</h1><a id = \"2\" ></a>\n",
        "\n",
        "Missing data are not rare in real data sets. In fact, the chance that at least one data point is missing increases as the data set size increases. Missing data can occur any number of ways, some of which include the following.\n",
        "\n",
        "- Merging of source data sets\n",
        "- Random events\n",
        "- Failures of measurement\n",
        "\n"
      ],
      "metadata": {
        "id": "XI1OkyhxaMCV"
      }
    },
    {
      "cell_type": "markdown",
      "source": [
        "<h2  style=\"text-align: center\" class=\"list-group-item list-group-item-success\"> 2.1 Visualizing Missing Data</h2><a id = \"2.1\" ></a>\n",
        "\n",
        "\n",
        "Visualizations as well as numeric summaries are the first step in understanding the challenge of missing information in a data set. For small to moderate data (100s of samples and 100s of attributes), several techniques are available that allow the visualization of all of the samples and Attributes simultaneously.\n",
        "\n",
        "In this notebook I'll Cover Following visualizations for missing values:-\n",
        "- Matrix\n",
        "- Correlation Heatmap\n",
        "- Dendrogram\n",
        "- Simple numerical summaries\n",
        "\n",
        "Question may arise that why we need Visualizations?\n",
        "Because it is wise to explore relationships within the attributes that might be related to missingness."
      ],
      "metadata": {
        "id": "9U31H0qRaMCV"
      }
    },
    {
      "cell_type": "markdown",
      "source": [
        "<h3  style=\"text-align: center\" class=\"list-group-item list-group-item-warning\"> 2.1.1 Matrix</h3><a id = \"2.1.1\" ></a>\n",
        "\n",
        "It is the nullity matrix that allows us to see the distribution of data across all columns in the whole dataset. It also shows a sparkline (or, in some cases, a striped line) that emphasizes rows in a dataset with the highest and lowest nullity."
      ],
      "metadata": {
        "id": "_3-ik5KpaMCW"
      }
    },
    {
      "cell_type": "code",
      "source": [
        "import missingno as msno"
      ],
      "metadata": {
        "execution": {
          "iopub.status.busy": "2022-04-14T14:01:46.584914Z",
          "iopub.execute_input": "2022-04-14T14:01:46.585193Z",
          "iopub.status.idle": "2022-04-14T14:01:46.804796Z",
          "shell.execute_reply.started": "2022-04-14T14:01:46.585161Z",
          "shell.execute_reply": "2022-04-14T14:01:46.803837Z"
        },
        "trusted": true,
        "id": "ngQqwaUOaMCW"
      },
      "execution_count": null,
      "outputs": []
    },
    {
      "cell_type": "code",
      "source": [
        "msno.matrix(df)\n",
        "plt.figure(figsize = (15,9))\n",
        "plt.show()"
      ],
      "metadata": {
        "execution": {
          "iopub.status.busy": "2022-04-14T14:01:46.807282Z",
          "iopub.execute_input": "2022-04-14T14:01:46.807565Z",
          "iopub.status.idle": "2022-04-14T14:01:49.462273Z",
          "shell.execute_reply.started": "2022-04-14T14:01:46.807533Z",
          "shell.execute_reply": "2022-04-14T14:01:49.460791Z"
        },
        "trusted": true,
        "id": "roGife1oaMCW"
      },
      "execution_count": null,
      "outputs": []
    },
    {
      "cell_type": "markdown",
      "source": [
        "From the above plot we can interpret our dataset has lots of missing values in it"
      ],
      "metadata": {
        "id": "YOCLQAeDaMCW"
      }
    },
    {
      "cell_type": "markdown",
      "source": [
        "<h3  style=\"text-align: center\" class=\"list-group-item list-group-item-warning\"> 2.1.2 Correlation Heatmap </h3><a id = \"2.1.2\" ></a>\n",
        "\n",
        "Correlation heatmap measures nullity correlation between columns of the dataset. It shows how strongly the presence or absence of one feature affects the other.\n",
        "\n",
        "Nullity correlation ranges from(-1 to 1):\n",
        "- -1 means if one column(attribute) is present, the other is almost certainly absent.\n",
        "- 0 means there is no dependence between the columns(attributes).\n",
        "- 1 means if one column(attributes) is present, the other is also certainly present.\n",
        "\n",
        "Unlike in a familiar correlation heatmap, if you see here, many columns are missing. Those columns which are always full or always empty have no meaningful correlation and are removed from the visualization.\n",
        "\n",
        "The heatmap is helpful for identifying data completeness correlations between attribute pairs, but it has the limited explanatory ability for broader relationships and no special support for really big datasets."
      ],
      "metadata": {
        "id": "bBBhm2FYaMCW"
      }
    },
    {
      "cell_type": "code",
      "source": [
        "msno.heatmap(df, labels = True)"
      ],
      "metadata": {
        "execution": {
          "iopub.status.busy": "2022-04-14T14:01:49.463784Z",
          "iopub.execute_input": "2022-04-14T14:01:49.464572Z",
          "iopub.status.idle": "2022-04-14T14:01:50.874158Z",
          "shell.execute_reply.started": "2022-04-14T14:01:49.464524Z",
          "shell.execute_reply": "2022-04-14T14:01:50.873013Z"
        },
        "trusted": true,
        "id": "JmBxTMAeaMCW"
      },
      "execution_count": null,
      "outputs": []
    },
    {
      "cell_type": "markdown",
      "source": [
        "From above visualization we can easily interpret missingness of attribute rate_of_interest and upfront_charges is dependent on each other(correlation value = 1) means if one will be present another will be present."
      ],
      "metadata": {
        "id": "-xBXhR5QaMCX"
      }
    },
    {
      "cell_type": "markdown",
      "source": [
        "<h3  style=\"text-align: center\" class=\"list-group-item list-group-item-warning\"> 2.1.3 Dendrogram </h3><a id = \"2.1.3\" ></a>\n",
        "\n",
        "\n",
        "The dendrogram shows the hierarchical nullity relationship between columns. The dendrogram uses a hierarchical clustering algorithm against one another by their nullity correlation.\n",
        "\n",
        "[More about Hierarchical Clustering Algorithm](http://docs.scipy.org/doc/scipy/reference/cluster.hierarchy.html)"
      ],
      "metadata": {
        "id": "F4WdhdqQaMCX"
      }
    },
    {
      "cell_type": "code",
      "source": [
        "# Columns having missing values\n",
        "missing_columns = [col for col in df.columns if df[col].isnull().sum() > 0]\n",
        "missing_columns"
      ],
      "metadata": {
        "execution": {
          "iopub.status.busy": "2022-04-14T14:01:50.875834Z",
          "iopub.execute_input": "2022-04-14T14:01:50.876252Z",
          "iopub.status.idle": "2022-04-14T14:01:51.181918Z",
          "shell.execute_reply.started": "2022-04-14T14:01:50.876201Z",
          "shell.execute_reply": "2022-04-14T14:01:51.180719Z"
        },
        "trusted": true,
        "id": "HHthbjMnaMCX"
      },
      "execution_count": null,
      "outputs": []
    },
    {
      "cell_type": "code",
      "source": [
        "msno.dendrogram(df[missing_columns])"
      ],
      "metadata": {
        "execution": {
          "iopub.status.busy": "2022-04-14T14:01:51.183328Z",
          "iopub.execute_input": "2022-04-14T14:01:51.183577Z",
          "iopub.status.idle": "2022-04-14T14:01:51.79926Z",
          "shell.execute_reply.started": "2022-04-14T14:01:51.183546Z",
          "shell.execute_reply": "2022-04-14T14:01:51.798118Z"
        },
        "trusted": true,
        "id": "0BHBmN_HaMCX"
      },
      "execution_count": null,
      "outputs": []
    },
    {
      "cell_type": "markdown",
      "source": [
        "We interpret the dendrogram based on a top-down approach, i.e., to focus on the height at which any two columns are joined together with matters of nullity. More will be the height less will be the relation and vice versa is also True.\n",
        "\n",
        "For example if we see pair of attributes LTV and property value has height 0 implies they are highly correlated in case of nullity. Similarly attribute LTV and rate_of_interest have maximum height implies they are less correlated with each other.  "
      ],
      "metadata": {
        "id": "le3XK6-SaMCX"
      }
    },
    {
      "cell_type": "markdown",
      "source": [
        "<h3  style=\"text-align: center\" class=\"list-group-item list-group-item-warning\"> 2.1.4 Simple Numerical Summaries </h3><a id = \"2.1.4\" ></a>\n",
        "\n",
        "\n",
        "Moving Forward lets try to analyse numerical summary of missing attributes. Simple numerical summaries are effective at identifying problematic predictors and samples when the data become too large to visually inspect."
      ],
      "metadata": {
        "id": "U3IeT9rCaMCX"
      }
    },
    {
      "cell_type": "code",
      "source": [
        "def get_numerical_summary(df):\n",
        "    total = df.shape[0]\n",
        "    missing_columns = [col for col in df.columns if df[col].isnull().sum() > 0]\n",
        "    missing_percent = {}\n",
        "    for col in missing_columns:\n",
        "        null_count = df[col].isnull().sum()\n",
        "        per = (null_count/total) * 100\n",
        "        missing_percent[col] = per\n",
        "        print(\"{} : {} ({}%)\".format(col, null_count, round(per, 3)))\n",
        "    return missing_percent"
      ],
      "metadata": {
        "execution": {
          "iopub.status.busy": "2022-04-14T14:01:51.80098Z",
          "iopub.execute_input": "2022-04-14T14:01:51.80148Z",
          "iopub.status.idle": "2022-04-14T14:01:51.80843Z",
          "shell.execute_reply.started": "2022-04-14T14:01:51.801428Z",
          "shell.execute_reply": "2022-04-14T14:01:51.807518Z"
        },
        "trusted": true,
        "id": "adScRTI7aMCX"
      },
      "execution_count": null,
      "outputs": []
    },
    {
      "cell_type": "code",
      "source": [
        "missing_percent = get_numerical_summary(df)"
      ],
      "metadata": {
        "execution": {
          "iopub.status.busy": "2022-04-14T14:01:51.809832Z",
          "iopub.execute_input": "2022-04-14T14:01:51.810137Z",
          "iopub.status.idle": "2022-04-14T14:01:52.210607Z",
          "shell.execute_reply.started": "2022-04-14T14:01:51.810103Z",
          "shell.execute_reply": "2022-04-14T14:01:52.209381Z"
        },
        "trusted": true,
        "id": "-gCPksqOaMCX"
      },
      "execution_count": null,
      "outputs": []
    },
    {
      "cell_type": "markdown",
      "source": [
        "Now I guess visualization part is done lets move forward to methods which we can use to handle missing values."
      ],
      "metadata": {
        "id": "_XdCQMrgaMCX"
      }
    },
    {
      "cell_type": "markdown",
      "source": [
        "\n",
        "<h2  style=\"text-align: center\" class=\"list-group-item list-group-item-success\"> 2.2 Methods to Handle Missing Data</h2><a id = \"2.2\" ></a>\n",
        "\n",
        "As we Know if our data has missing values than our model will not train except few models which can tolerate them like some tree based models but the point is we want to handle this and how can we handle them. So, in this notebook to handle missing data I will discuss following techniques :-\n",
        "\n",
        "- Deletion of Data\n",
        "- Encoding Missingness\n",
        "- Imputation Methods\n"
      ],
      "metadata": {
        "id": "zGHoG0gJaMCX"
      }
    },
    {
      "cell_type": "markdown",
      "source": [
        "<h3  style=\"text-align: center\" class=\"list-group-item list-group-item-warning\"> 2.2.1 Deletion of Data </h3><a id = \"2.2.1\" ></a>\n",
        "\n",
        "\n",
        "\n",
        "The simplest approach for dealing with missing values is to remove entire attribute(s) and/or sample(s) that contain missing values. However, one must carefully consider a number of aspects of the data prior to taking this approach. For example, missing values could be eliminated by removing all predictors that contain at least one missing value. Similarly, missing values could be eliminated by removing all samples with any missing values.\n",
        "\n",
        "**Note: When it is difficult to obtain samples or when the data contain a small number of samples (i.e., rows), then it is not desirable to remove samples from the data.**\n",
        "\n",
        "Consider this small intuition shown below\n",
        "\n",
        "Let M = Number of Samples(rows).\\\n",
        "and Let N = Number of Attributes(columns).\n",
        "\n",
        "\n",
        "Case 1: Deletion of Attributes\n",
        "\n",
        "If N has range of [1-10]\\\n",
        "Then don't delete the attribute that contain missing values but if that attribute has missing values around 80-90% then deletion of that attribute will be good option instead of just predicting values of those 80-90% data based on that 10-20% data.\n",
        "\n",
        "Case 2: Deletion of Samples\n",
        "\n",
        "If M is a large number according to your task\\\n",
        "Then deletion of sample can be a Good step but if that sample has few missing values with respect to attribute, then you should consider methods to fill those missing values.\n",
        "\n",
        "Lets move on to the implementation part, I will just show how to delete data for both cases but you can interpret more according to your tasks."
      ],
      "metadata": {
        "id": "YsWxBa6SaMCY"
      }
    },
    {
      "cell_type": "markdown",
      "source": [
        "**Deletion of an Attribute**\n",
        "\n",
        "According to Simple numerical Summaries the attribute Upfront_charges has largest missing values percentage of (26.664%) which is not ideal percentage to remove a feature but just for sake of implementation I will remove that feature."
      ],
      "metadata": {
        "id": "Bgwry5qbaMCY"
      }
    },
    {
      "cell_type": "code",
      "source": [
        "df_temp = df.copy()"
      ],
      "metadata": {
        "execution": {
          "iopub.status.busy": "2022-04-14T14:01:52.216157Z",
          "iopub.execute_input": "2022-04-14T14:01:52.216468Z",
          "iopub.status.idle": "2022-04-14T14:01:52.235774Z",
          "shell.execute_reply.started": "2022-04-14T14:01:52.216434Z",
          "shell.execute_reply": "2022-04-14T14:01:52.234938Z"
        },
        "trusted": true,
        "id": "OJrsU_BwaMCY"
      },
      "execution_count": null,
      "outputs": []
    },
    {
      "cell_type": "code",
      "source": [
        "# Threshold to remove attribute having missing values greater than threshold\n",
        "ATTRIBUTE_THRESHOLD = 25 #25% in this case\n",
        "\n",
        "for col, per in missing_percent.items():\n",
        "    if per > ATTRIBUTE_THRESHOLD:\n",
        "        df_temp.drop(col, axis = 1, inplace = True)\n"
      ],
      "metadata": {
        "execution": {
          "iopub.status.busy": "2022-04-14T14:01:52.237056Z",
          "iopub.execute_input": "2022-04-14T14:01:52.23741Z",
          "iopub.status.idle": "2022-04-14T14:01:52.281546Z",
          "shell.execute_reply.started": "2022-04-14T14:01:52.237379Z",
          "shell.execute_reply": "2022-04-14T14:01:52.280566Z"
        },
        "trusted": true,
        "id": "5OWuqUXIaMCY"
      },
      "execution_count": null,
      "outputs": []
    },
    {
      "cell_type": "markdown",
      "source": [
        "By generating numerical summary of df_temp we can see now attribute Upfont_chargers being removed from the dataset as it has missing values percentage greater than threshold we defined"
      ],
      "metadata": {
        "id": "5xH5u0M-aMCY"
      }
    },
    {
      "cell_type": "code",
      "source": [
        "_ = get_numerical_summary(df_temp)"
      ],
      "metadata": {
        "execution": {
          "iopub.status.busy": "2022-04-14T14:01:52.283018Z",
          "iopub.execute_input": "2022-04-14T14:01:52.283425Z",
          "iopub.status.idle": "2022-04-14T14:01:52.67324Z",
          "shell.execute_reply.started": "2022-04-14T14:01:52.283392Z",
          "shell.execute_reply": "2022-04-14T14:01:52.672038Z"
        },
        "trusted": true,
        "id": "MvXMlpEXaMCY"
      },
      "execution_count": null,
      "outputs": []
    },
    {
      "cell_type": "code",
      "source": [
        "del df_temp"
      ],
      "metadata": {
        "execution": {
          "iopub.status.busy": "2022-04-14T14:01:52.674661Z",
          "iopub.execute_input": "2022-04-14T14:01:52.675006Z",
          "iopub.status.idle": "2022-04-14T14:01:52.688152Z",
          "shell.execute_reply.started": "2022-04-14T14:01:52.674971Z",
          "shell.execute_reply": "2022-04-14T14:01:52.68725Z"
        },
        "trusted": true,
        "id": "9oMv_c94aMCY"
      },
      "execution_count": null,
      "outputs": []
    },
    {
      "cell_type": "markdown",
      "source": [
        "**Deletion of the Samples**\n",
        "\n",
        "We will try to delete those samples having missing values in more than 5 attributes  "
      ],
      "metadata": {
        "id": "IfzgE_lxaMCY"
      }
    },
    {
      "cell_type": "code",
      "source": [
        "df_temp = df.copy()"
      ],
      "metadata": {
        "execution": {
          "iopub.status.busy": "2022-04-14T14:01:52.690504Z",
          "iopub.execute_input": "2022-04-14T14:01:52.691029Z",
          "iopub.status.idle": "2022-04-14T14:01:52.718771Z",
          "shell.execute_reply.started": "2022-04-14T14:01:52.690973Z",
          "shell.execute_reply": "2022-04-14T14:01:52.717523Z"
        },
        "trusted": true,
        "id": "07l2fMmtaMCY"
      },
      "execution_count": null,
      "outputs": []
    },
    {
      "cell_type": "code",
      "source": [
        "# Getting Missing count of each sample\n",
        "\n",
        "for idx in range(df_temp.shape[0]):\n",
        "    df_temp.loc[idx, 'missing_count'] = df_temp.iloc[idx, :].isnull().sum()"
      ],
      "metadata": {
        "execution": {
          "iopub.status.busy": "2022-04-14T14:01:52.720997Z",
          "iopub.execute_input": "2022-04-14T14:01:52.721378Z",
          "iopub.status.idle": "2022-04-14T14:04:35.441371Z",
          "shell.execute_reply.started": "2022-04-14T14:01:52.721328Z",
          "shell.execute_reply": "2022-04-14T14:04:35.440177Z"
        },
        "trusted": true,
        "id": "zy7BJ6V9aMCY"
      },
      "execution_count": null,
      "outputs": []
    },
    {
      "cell_type": "code",
      "source": [
        "# Threshold to remove samples having missing values greater than threshold\n",
        "SAMPLE_THRESHOLD = 5\n",
        "\n",
        "print(\"Samples Before Removal : {}\".format(df_temp.shape[0]))\n",
        "\n",
        "df_temp.drop(df_temp[df_temp['missing_count'] > SAMPLE_THRESHOLD].index, axis = 0, inplace = True)\n",
        "\n",
        "print(\"Samples After Removal : {}\".format(df_temp.shape[0]))\n"
      ],
      "metadata": {
        "execution": {
          "iopub.status.busy": "2022-04-14T14:04:35.443484Z",
          "iopub.execute_input": "2022-04-14T14:04:35.443791Z",
          "iopub.status.idle": "2022-04-14T14:04:35.534499Z",
          "shell.execute_reply.started": "2022-04-14T14:04:35.443745Z",
          "shell.execute_reply": "2022-04-14T14:04:35.533343Z"
        },
        "trusted": true,
        "id": "C4fRjnk0aMCY"
      },
      "execution_count": null,
      "outputs": []
    },
    {
      "cell_type": "code",
      "source": [
        "del df_temp"
      ],
      "metadata": {
        "execution": {
          "iopub.status.busy": "2022-04-14T14:04:35.53635Z",
          "iopub.execute_input": "2022-04-14T14:04:35.536671Z",
          "iopub.status.idle": "2022-04-14T14:04:35.551523Z",
          "shell.execute_reply.started": "2022-04-14T14:04:35.536638Z",
          "shell.execute_reply": "2022-04-14T14:04:35.550355Z"
        },
        "trusted": true,
        "id": "O0kWa4BnaMCY"
      },
      "execution_count": null,
      "outputs": []
    },
    {
      "cell_type": "markdown",
      "source": [
        "<h3  style=\"text-align: center\" class=\"list-group-item list-group-item-warning\"> 2.2.2 Encoding Missingness </h3><a id = \"2.2.2\" ></a>\n",
        "\n",
        "\n",
        "\n",
        "When an attribute is discrete in nature, missingness can be directly encoded into the attribute as if it were a naturally occurring category. For example in this dataset the attribute loan_limit has 3344 missing values so we can assign some new category to these missing values."
      ],
      "metadata": {
        "id": "emkHz7XcaMCZ"
      }
    },
    {
      "cell_type": "code",
      "source": [
        "cat_missing_cols = [col for col in missing_columns if df[col].dtype == 'object']\n",
        "cat_missing_cols"
      ],
      "metadata": {
        "execution": {
          "iopub.status.busy": "2022-04-14T14:04:35.553253Z",
          "iopub.execute_input": "2022-04-14T14:04:35.553545Z",
          "iopub.status.idle": "2022-04-14T14:04:35.574558Z",
          "shell.execute_reply.started": "2022-04-14T14:04:35.55351Z",
          "shell.execute_reply": "2022-04-14T14:04:35.573336Z"
        },
        "trusted": true,
        "id": "cTtmKAtwaMCZ"
      },
      "execution_count": null,
      "outputs": []
    },
    {
      "cell_type": "code",
      "source": [
        "df.loan_limit.value_counts()"
      ],
      "metadata": {
        "execution": {
          "iopub.status.busy": "2022-04-14T14:04:35.576279Z",
          "iopub.execute_input": "2022-04-14T14:04:35.576787Z",
          "iopub.status.idle": "2022-04-14T14:04:35.615322Z",
          "shell.execute_reply.started": "2022-04-14T14:04:35.576751Z",
          "shell.execute_reply": "2022-04-14T14:04:35.614027Z"
        },
        "trusted": true,
        "id": "OhZyoeufaMCZ"
      },
      "execution_count": null,
      "outputs": []
    },
    {
      "cell_type": "code",
      "source": [
        "df[cat_missing_cols] = df[cat_missing_cols].fillna('Missing')\n",
        "df.loan_limit.value_counts()"
      ],
      "metadata": {
        "execution": {
          "iopub.status.busy": "2022-04-14T14:04:35.616992Z",
          "iopub.execute_input": "2022-04-14T14:04:35.617298Z",
          "iopub.status.idle": "2022-04-14T14:04:35.756706Z",
          "shell.execute_reply.started": "2022-04-14T14:04:35.617262Z",
          "shell.execute_reply": "2022-04-14T14:04:35.755493Z"
        },
        "trusted": true,
        "id": "e_GjHSn5aMCc"
      },
      "execution_count": null,
      "outputs": []
    },
    {
      "cell_type": "code",
      "source": [
        "df[cat_missing_cols].info()"
      ],
      "metadata": {
        "execution": {
          "iopub.status.busy": "2022-04-14T14:04:35.758644Z",
          "iopub.execute_input": "2022-04-14T14:04:35.759831Z",
          "iopub.status.idle": "2022-04-14T14:04:35.861389Z",
          "shell.execute_reply.started": "2022-04-14T14:04:35.759784Z",
          "shell.execute_reply": "2022-04-14T14:04:35.860283Z"
        },
        "trusted": true,
        "id": "bves5NeZaMCd"
      },
      "execution_count": null,
      "outputs": []
    },
    {
      "cell_type": "markdown",
      "source": [
        "<h3  style=\"text-align: center\" class=\"list-group-item list-group-item-warning\"> 2.2.3 Imputation Methods</h3><a id = \"2.2.3\" ></a>\n",
        "\n",
        "\n",
        "\n",
        "Another approach to handling missing values is to impute or estimate them. Imputation uses information and relationships among the non-missing\n",
        "attributes to provide an estimate to fill in the missing value.\n",
        "\n",
        "In this section we will work on imputation models which will help us impute missing values by extracting interesting patterns from attributes which don't have missing values at that point on time.\n",
        "\n",
        "\n",
        "- Within a sample data point, other variables may also be missing. For this reason, an imputation method should be tolerant of other missing data.\n",
        "\n",
        "- Imputation creates a model embedded within another model. There is a prediction equation associated with every attribute in the training set that might have missing data. It is desirable for the imputation method to be fast and have a compact prediction equation.\n",
        "\n",
        "- Many data sets often contain both numeric and discrete attributes. Rather than generating dummy variables for discrete attributes, a useful imputation method would be able to use attributes of various types as inputs.\n",
        "\n",
        "- The model for predicting missing values should be numerically stable and not be overly influenced by outlying data points.\n",
        "\n",
        "Virtually any machine learning model could be used to impute the data. Here, the focus will be on several that are good candidates to consider.\n",
        "\n",
        "Question arise if an attribute has missing values around 50-60% then can we use imputation methods? And the answer is it depends upon datasets which we are using because an attribute with 60% missing values may has very good correlation with some other attribute which can be helpful to fill those missing values on the other side if let say some column like ID column which is independent of all columns has missing values around 10% using imputation methods we may not get results we wanted."
      ],
      "metadata": {
        "id": "XNNBdYgpaMCd"
      }
    },
    {
      "cell_type": "markdown",
      "source": [
        "In this notebook we are gonna work on following imputation methods:-\n",
        "\n",
        "- KNN for Imputation\n",
        "- Tree Based Imputation\n",
        "- Linear Models for Imputation   "
      ],
      "metadata": {
        "id": "9AGwbY94aMCd"
      }
    },
    {
      "cell_type": "markdown",
      "source": [
        "<h3>(a) K-Nearest Neighbors(KNN) for Imputation</h3>\n",
        "\n",
        "When the training set is small or moderate in size, K-nearest neighbors can be a quick and effective method for imputing missing values. This procedure identifies a sample with one or more missing values. Then it identifies the K most similar samples in the training data that are complete (i.e., have no missing values in some columns). Similarity of samples for this method is defined by a distance metric. When all of the predictors are\n",
        "numeric, standard Euclidean distance is commonly used as the similarity metric.\n",
        "\n",
        "After computing the distances, the K closest samples to the sample with the missing value are identified and the average value of the predictor of interest is calculated. This value is then used to replace the missing value of the sample."
      ],
      "metadata": {
        "id": "_Rqj-JrIaMCd"
      }
    },
    {
      "cell_type": "code",
      "source": [
        "from sklearn.impute import KNNImputer\n",
        "\n",
        "df_temp = df.copy()"
      ],
      "metadata": {
        "execution": {
          "iopub.status.busy": "2022-04-14T14:04:35.862904Z",
          "iopub.execute_input": "2022-04-14T14:04:35.863192Z",
          "iopub.status.idle": "2022-04-14T14:04:35.923051Z",
          "shell.execute_reply.started": "2022-04-14T14:04:35.86315Z",
          "shell.execute_reply": "2022-04-14T14:04:35.921843Z"
        },
        "trusted": true,
        "id": "JeaIQlJraMCd"
      },
      "execution_count": null,
      "outputs": []
    },
    {
      "cell_type": "markdown",
      "source": [
        "As we haven't done categorical encoding yet (We'll cover it in next section) so, for time being lets impute on numerical data only later we will impute on full data after encoding."
      ],
      "metadata": {
        "id": "BZ7-QDOLaMCd"
      }
    },
    {
      "cell_type": "code",
      "source": [
        "num_cols = [col for col in df_temp.columns if df_temp[col].dtype != 'object']\n",
        "print(num_cols)\n",
        "df_temp = df_temp[num_cols]"
      ],
      "metadata": {
        "execution": {
          "iopub.status.busy": "2022-04-14T14:04:35.924577Z",
          "iopub.execute_input": "2022-04-14T14:04:35.924836Z",
          "iopub.status.idle": "2022-04-14T14:04:35.947967Z",
          "shell.execute_reply.started": "2022-04-14T14:04:35.924804Z",
          "shell.execute_reply": "2022-04-14T14:04:35.946974Z"
        },
        "trusted": true,
        "id": "L-7uUFgNaMCd"
      },
      "execution_count": null,
      "outputs": []
    },
    {
      "cell_type": "code",
      "source": [
        "# Initializing KNNImputer\n",
        "knn = KNNImputer(n_neighbors = 3)\n",
        "\n",
        "knn.fit(df_temp)"
      ],
      "metadata": {
        "execution": {
          "iopub.status.busy": "2022-04-14T14:04:35.949731Z",
          "iopub.execute_input": "2022-04-14T14:04:35.950043Z",
          "iopub.status.idle": "2022-04-14T14:04:35.990081Z",
          "shell.execute_reply.started": "2022-04-14T14:04:35.949995Z",
          "shell.execute_reply": "2022-04-14T14:04:35.989201Z"
        },
        "trusted": true,
        "id": "RDAVPpYJaMCd"
      },
      "execution_count": null,
      "outputs": []
    },
    {
      "cell_type": "code",
      "source": [
        "X = knn.transform(df_temp)"
      ],
      "metadata": {
        "execution": {
          "iopub.status.busy": "2022-04-14T14:04:35.991601Z",
          "iopub.execute_input": "2022-04-14T14:04:35.992492Z",
          "iopub.status.idle": "2022-04-14T14:21:14.346778Z",
          "shell.execute_reply.started": "2022-04-14T14:04:35.992452Z",
          "shell.execute_reply": "2022-04-14T14:21:14.34572Z"
        },
        "trusted": true,
        "id": "7F8WNxU_aMCd"
      },
      "execution_count": null,
      "outputs": []
    },
    {
      "cell_type": "code",
      "source": [
        "df_temp = pd.DataFrame(X, columns = num_cols)\n",
        "df.info()"
      ],
      "metadata": {
        "execution": {
          "iopub.status.busy": "2022-04-14T14:21:14.348767Z",
          "iopub.execute_input": "2022-04-14T14:21:14.349175Z",
          "iopub.status.idle": "2022-04-14T14:21:14.639138Z",
          "shell.execute_reply.started": "2022-04-14T14:21:14.349109Z",
          "shell.execute_reply": "2022-04-14T14:21:14.638023Z"
        },
        "trusted": true,
        "id": "329jbpHqaMCd"
      },
      "execution_count": null,
      "outputs": []
    },
    {
      "cell_type": "code",
      "source": [
        "del df_temp"
      ],
      "metadata": {
        "execution": {
          "iopub.status.busy": "2022-04-14T14:21:14.640886Z",
          "iopub.execute_input": "2022-04-14T14:21:14.641244Z",
          "iopub.status.idle": "2022-04-14T14:21:14.646433Z",
          "shell.execute_reply.started": "2022-04-14T14:21:14.641209Z",
          "shell.execute_reply": "2022-04-14T14:21:14.645255Z"
        },
        "trusted": true,
        "id": "2znVbhQqaMCd"
      },
      "execution_count": null,
      "outputs": []
    },
    {
      "cell_type": "markdown",
      "source": [
        "<h3>(b) Trees</h3>\n",
        "\n",
        "Tree-based models are a reasonable choice for an imputation technique since a tree can be constructed in the presence of other missing data. While a single tree could be used as an imputation technique, it is known to produce results that have low bias but high variance. And we all know who kills the bias its Ensembles of trees.\n",
        "\n",
        "Random forests is one such technique and has been studied for this purpose. However, there are a couple of notable drawbacks when using this technique in a predictive modeling setting. First and foremost, the random selection of predictors at each split necessitates a large number of trees (500 to 2000) to achieve a stable, reliable model. This can present a challenge as the number of attributes with missing data increases since a separate model must be built and retained for each predictor. Also Random forest will have heavy computations.\n",
        "\n",
        "A good alternative that has a smaller computational footprint is a bagged tree. A bagged tree is constructed in a similar fashion to a random forest.\n",
        "The primary difference is that in a bagged model, all attributes are evaluated at each split in each tree. The performance of a bagged tree using 25–50 trees is generally in the ballpark of the performance of a random forest model. And the smaller number of trees is a clear advantage when the goal is to find reasonable imputed values for missing data.\n",
        "\n",
        "\n"
      ],
      "metadata": {
        "id": "cMckQwrjaMCe"
      }
    },
    {
      "cell_type": "code",
      "source": [
        "missing_columns"
      ],
      "metadata": {
        "execution": {
          "iopub.status.busy": "2022-04-14T14:21:14.656179Z",
          "iopub.execute_input": "2022-04-14T14:21:14.656476Z",
          "iopub.status.idle": "2022-04-14T14:21:14.663282Z",
          "shell.execute_reply.started": "2022-04-14T14:21:14.656443Z",
          "shell.execute_reply": "2022-04-14T14:21:14.662437Z"
        },
        "trusted": true,
        "id": "8mcMQU3MaMCe"
      },
      "execution_count": null,
      "outputs": []
    },
    {
      "cell_type": "code",
      "source": [
        "from sklearn.tree import DecisionTreeRegressor\n",
        "\n",
        "dr = DecisionTreeRegressor()"
      ],
      "metadata": {
        "execution": {
          "iopub.status.busy": "2022-04-14T14:21:14.664738Z",
          "iopub.execute_input": "2022-04-14T14:21:14.664975Z",
          "iopub.status.idle": "2022-04-14T14:21:14.674291Z",
          "shell.execute_reply.started": "2022-04-14T14:21:14.664917Z",
          "shell.execute_reply": "2022-04-14T14:21:14.67338Z"
        },
        "trusted": true,
        "id": "84bqJSGEaMCe"
      },
      "execution_count": null,
      "outputs": []
    },
    {
      "cell_type": "code",
      "source": [
        "income = df['income']"
      ],
      "metadata": {
        "execution": {
          "iopub.status.busy": "2022-04-14T14:21:14.675778Z",
          "iopub.execute_input": "2022-04-14T14:21:14.676147Z",
          "iopub.status.idle": "2022-04-14T14:21:14.692251Z",
          "shell.execute_reply.started": "2022-04-14T14:21:14.676093Z",
          "shell.execute_reply": "2022-04-14T14:21:14.691236Z"
        },
        "trusted": true,
        "id": "LV_Hywe2aMCe"
      },
      "execution_count": null,
      "outputs": []
    },
    {
      "cell_type": "markdown",
      "source": [
        "As we have to encode categorical variables into numerical data to use sklearn's tree based models so for the time being I am encoding categorical variables using Label Encoding Method"
      ],
      "metadata": {
        "id": "FzA2n4_DaMCe"
      }
    },
    {
      "cell_type": "code",
      "source": [
        "df_temp = df.copy()"
      ],
      "metadata": {
        "execution": {
          "iopub.status.busy": "2022-04-14T14:21:14.693773Z",
          "iopub.execute_input": "2022-04-14T14:21:14.694031Z",
          "iopub.status.idle": "2022-04-14T14:21:14.72165Z",
          "shell.execute_reply.started": "2022-04-14T14:21:14.694Z",
          "shell.execute_reply": "2022-04-14T14:21:14.720638Z"
        },
        "trusted": true,
        "id": "UT9kKWkxaMCe"
      },
      "execution_count": null,
      "outputs": []
    },
    {
      "cell_type": "code",
      "source": [
        "from sklearn.preprocessing import LabelEncoder\n",
        "\n",
        "lb = LabelEncoder()\n",
        "\n",
        "cat_cols = [col for col in df.columns if df[col].dtype == 'object']\n",
        "\n",
        "for col in cat_cols:\n",
        "    df_temp[col] = lb.fit_transform(df_temp[col])\n"
      ],
      "metadata": {
        "execution": {
          "iopub.status.busy": "2022-04-14T14:21:14.723335Z",
          "iopub.execute_input": "2022-04-14T14:21:14.723568Z",
          "iopub.status.idle": "2022-04-14T14:21:15.831705Z",
          "shell.execute_reply.started": "2022-04-14T14:21:14.723538Z",
          "shell.execute_reply": "2022-04-14T14:21:15.830704Z"
        },
        "trusted": true,
        "id": "nOvGIChVaMCf"
      },
      "execution_count": null,
      "outputs": []
    },
    {
      "cell_type": "code",
      "source": [
        "from sklearn.ensemble import BaggingRegressor\n",
        "from sklearn.tree import DecisionTreeRegressor\n",
        "\n",
        "\n",
        "def tree_imputation(df):\n",
        "    missing_cols = [col for col in df.columns if df[col].isnull().sum() > 0]\n",
        "    non_missing_cols = [col for col in df.columns if df[col].isnull().sum() == 0]\n",
        "    # num_cols = [col for col in missing_cols if df[col].dtype != 'object']\n",
        "\n",
        "    # df = df[num_cols]\n",
        "    for col in missing_cols:\n",
        "\n",
        "        # Defining a new bagging model for each attribute\n",
        "        model = BaggingRegressor(DecisionTreeRegressor(), n_estimators = 40, max_samples = 1.0, max_features = 1.0, bootstrap = False, n_jobs = -1)\n",
        "\n",
        "        col_missing = df[df[col].isnull()]\n",
        "        temp = df.drop(df[df[col].isnull()].index, axis = 0)\n",
        "\n",
        "        # print(temp.columns)\n",
        "        # X = temp.drop(col, axis = 1)\n",
        "        X = temp.loc[:, non_missing_cols]\n",
        "        y = temp[col]\n",
        "\n",
        "        model.fit(X, y)\n",
        "\n",
        "        y_pred = model.predict(col_missing[non_missing_cols])\n",
        "        # col_missing[col] = y_pred\n",
        "\n",
        "        df.loc[col_missing.index, col] = y_pred\n",
        "\n",
        "    return df\n",
        ""
      ],
      "metadata": {
        "execution": {
          "iopub.status.busy": "2022-04-14T14:21:15.83323Z",
          "iopub.execute_input": "2022-04-14T14:21:15.833452Z",
          "iopub.status.idle": "2022-04-14T14:21:15.84398Z",
          "shell.execute_reply.started": "2022-04-14T14:21:15.833422Z",
          "shell.execute_reply": "2022-04-14T14:21:15.843039Z"
        },
        "trusted": true,
        "id": "7RAMFvXbaMCf"
      },
      "execution_count": null,
      "outputs": []
    },
    {
      "cell_type": "code",
      "source": [
        "df_new = tree_imputation(df_temp)\n",
        "df_new.info()"
      ],
      "metadata": {
        "execution": {
          "iopub.status.busy": "2022-04-14T14:21:15.84581Z",
          "iopub.execute_input": "2022-04-14T14:21:15.846058Z",
          "iopub.status.idle": "2022-04-14T14:24:22.21533Z",
          "shell.execute_reply.started": "2022-04-14T14:21:15.846028Z",
          "shell.execute_reply": "2022-04-14T14:24:22.214237Z"
        },
        "trusted": true,
        "id": "MPXTYcbGaMCf"
      },
      "execution_count": null,
      "outputs": []
    },
    {
      "cell_type": "code",
      "source": [
        "msno.bar(df_new)\n",
        "plt.show()"
      ],
      "metadata": {
        "execution": {
          "iopub.status.busy": "2022-04-14T14:24:22.217049Z",
          "iopub.execute_input": "2022-04-14T14:24:22.217318Z",
          "iopub.status.idle": "2022-04-14T14:24:25.543829Z",
          "shell.execute_reply.started": "2022-04-14T14:24:22.217281Z",
          "shell.execute_reply": "2022-04-14T14:24:25.542833Z"
        },
        "trusted": true,
        "id": "-N165MVIaMCf"
      },
      "execution_count": null,
      "outputs": []
    },
    {
      "cell_type": "markdown",
      "source": [
        "We can see all missing values from the dataset are gone. Now as we temporarily encode categorical variables because we will encode them in later section so lets decode them."
      ],
      "metadata": {
        "id": "Yf0IY9_oaMCf"
      }
    },
    {
      "cell_type": "code",
      "source": [
        "df_new = pd.concat([df[cat_cols], df_new.drop(cat_cols, axis = 1)], axis = 1)\n",
        "df_new.head()"
      ],
      "metadata": {
        "execution": {
          "iopub.status.busy": "2022-04-14T14:24:25.545639Z",
          "iopub.execute_input": "2022-04-14T14:24:25.546295Z",
          "iopub.status.idle": "2022-04-14T14:24:25.654841Z",
          "shell.execute_reply.started": "2022-04-14T14:24:25.54625Z",
          "shell.execute_reply": "2022-04-14T14:24:25.653894Z"
        },
        "trusted": true,
        "id": "s2efrxxMaMCf"
      },
      "execution_count": null,
      "outputs": []
    },
    {
      "cell_type": "code",
      "source": [
        "df_new.info()"
      ],
      "metadata": {
        "execution": {
          "iopub.status.busy": "2022-04-14T14:24:25.6562Z",
          "iopub.execute_input": "2022-04-14T14:24:25.656419Z",
          "iopub.status.idle": "2022-04-14T14:24:25.947033Z",
          "shell.execute_reply.started": "2022-04-14T14:24:25.65639Z",
          "shell.execute_reply": "2022-04-14T14:24:25.945922Z"
        },
        "trusted": true,
        "id": "lfpOonbnaMCf"
      },
      "execution_count": null,
      "outputs": []
    },
    {
      "cell_type": "markdown",
      "source": [
        "<h3>(c) Linear Methods</h3>\n",
        "\n",
        "When a complete Attribute shows a strong linear relationship with a attribute that requires imputation, a straightforward linear model may be the best approach. Linear models can be computed very quickly. Linear regression can be used for a numeric attribute that requires imputation.\n",
        "Similarly, logistic regression is appropriate for a categorical attribute that requires imputation.\n",
        "\n",
        "Let say feature rate_of_interest and Interest_rate_spread are dependent features means one feature can be defined using other. If feature rate_of_interest has missing values than it can be imputed using simple linear model trained on Interest_rate_spread."
      ],
      "metadata": {
        "id": "ngSckPphaMCf"
      }
    },
    {
      "cell_type": "markdown",
      "source": [
        "<h1  style=\"text-align: center\" class=\"list-group-item list-group-item-action active\">3. Encoding Categorical Attributes</h1><a id = \"3\" ></a>\n",
        "\n",
        "\n",
        "Categorical Features are those that contain qualitative data.This Section focuses primarily on methods that encode categorical data to numeric values.\n",
        "\n",
        "Categorical variables/features are any feature type can be classified into three major types:\n",
        "\n",
        "- Nominal\n",
        "- Ordinal\n",
        "- Binary\n",
        "\n",
        "**Nominal variables** are variables that have two or more categories which do not have any kind of order associated with them. For Example if our dataset has any 4 types of colors, i.e. Red, Blue, Orange, Green it can be considered as a nominal variable.\n",
        "\n",
        "**Ordinal variables** on the other hand, have “levels” or categories with a particular order associated with them. For example, an ordinal categorical variable can be a feature with three different levels: low, medium and high. Order is important.\n",
        "\n",
        "**Binary Variables** are same as nominal variables but with only categories For example, if gender is classified into two groups, i.e. male and female.\n",
        "\n",
        "For Nominal Variables We generally uses Label Encoding Scheme in which we encode each category by just converting it to some integer values this kind of encoding can work in case of Ordinal variables but **for label encoding it has the disadvantage that the numeric values can be misinterpreted by algorithms as having some sort of hierarchy/order in them**. This ordering issue is addressed in another common alternative approach called 'One-Hot Encoding'.\n",
        "\n",
        "One-Hot-Encoding has the advantage that the result is binary rather than ordinal and that everything sits in an orthogonal vector space. **The disadvantage is that for high cardinality, the feature space can really blow up quickly and you start fighting with the curse of dimensionality.**\n",
        "\n",
        "Another big issue with encoding schemes is new category or while splitting data in train/validation/test set all samples of the rare classes may split into validation/test set then during it will raise error while predicting.  \n"
      ],
      "metadata": {
        "id": "LDdJLCUzaMCf"
      }
    },
    {
      "cell_type": "markdown",
      "source": [
        "Because of few potential issues with traditional approaches we now need to search for some unique approaches some of them are listed below:-\n",
        "\n",
        "- Supervised Encoding Methods\n",
        "- Approaching for Novel Categories\n",
        "\n",
        "Starting from Supervised Encoding Methods lets define it first\n",
        "\n",
        "\n",
        "<h2  style=\"text-align: center\" class=\"list-group-item list-group-item-success\"> 3.1 Supervised Encoding Methods</h2><a id = \"3.1\" ></a>\n",
        "\n",
        "\n",
        "There are several methods of encoding categorical variable to numeric columns using the output data as a guide (so that they are supervised methods). In Supervised Techniques we will discuss following methods to encode categorical variable:-\n",
        "\n",
        "- Effect or Likelihood Encoding  \n",
        "- Target Encoding\n",
        "- Deep Learning Methods\n",
        "\n",
        "\n",
        "\n",
        "<h3  style=\"text-align: center\" class=\"list-group-item list-group-item-warning\"> 3.1.1 Likelihood Encoding</h3><a id = \"3.1.1\" ></a>\n",
        "\n",
        "\n",
        "\n",
        "The effect of the factor level on the output data is measured and this effect is used as the numeric encoding. Here effect of that particular category on output data can be calculated using simple linear models or mean, mode and median methods.\n",
        "\n",
        "For classification problems, a simple logistic regression model can be used to measure the effect between the categorical outcome and the categorical predictor. After Computing Effects we will compute log-odds of those effects, If the effect is p, the odds of that event are defined as p/(1 − p) and log odds by simply taking log of odds. After when we get the log odds of each category we than encode each category with them using map function.     \n"
      ],
      "metadata": {
        "id": "oJPDLjYvaMCf"
      }
    },
    {
      "cell_type": "code",
      "source": [
        "df_temp = df_new.copy()"
      ],
      "metadata": {
        "execution": {
          "iopub.status.busy": "2022-04-14T14:24:25.948501Z",
          "iopub.execute_input": "2022-04-14T14:24:25.94878Z",
          "iopub.status.idle": "2022-04-14T14:24:25.980752Z",
          "shell.execute_reply.started": "2022-04-14T14:24:25.948747Z",
          "shell.execute_reply": "2022-04-14T14:24:25.979705Z"
        },
        "trusted": true,
        "id": "e531TbtsaMCg"
      },
      "execution_count": null,
      "outputs": []
    },
    {
      "cell_type": "code",
      "source": [
        "from sklearn.linear_model import LogisticRegression\n",
        "from sklearn.metrics import accuracy_score\n",
        "from sklearn.preprocessing import LabelEncoder\n",
        "\n",
        "\n",
        "## Again we have to temporarily encode variables\n",
        "lb = LabelEncoder()\n",
        "\n",
        "cat_cols = [col for col in df_temp.columns if df_temp[col].dtype == 'object']\n",
        "\n",
        "for col in cat_cols:\n",
        "    df_temp[col] = lb.fit_transform(df_temp[col])\n"
      ],
      "metadata": {
        "execution": {
          "iopub.status.busy": "2022-04-14T14:24:25.982212Z",
          "iopub.execute_input": "2022-04-14T14:24:25.982448Z",
          "iopub.status.idle": "2022-04-14T14:24:27.108611Z",
          "shell.execute_reply.started": "2022-04-14T14:24:25.982416Z",
          "shell.execute_reply": "2022-04-14T14:24:27.107526Z"
        },
        "trusted": true,
        "id": "9nm9gUC3aMCg"
      },
      "execution_count": null,
      "outputs": []
    },
    {
      "cell_type": "code",
      "source": [
        "def likelihood_encoding(df, cat_cols, target_variable = \"Status\"):\n",
        "    # cat_cols.remove(target_variable)\n",
        "    df_temp = df.copy()\n",
        "    for col in cat_cols:\n",
        "        effect = {}\n",
        "        print(col)\n",
        "        for category in df[col].unique():\n",
        "            print(category)\n",
        "\n",
        "            try:\n",
        "                temp = df[df[col] == category]\n",
        "                lr = LogisticRegression()\n",
        "                X = temp.drop(target_variable, axis = 1, inplace = False)\n",
        "                y = temp[target_variable]\n",
        "                # print(temp.drop(target_variable, axis = 1).isnull().sum())\n",
        "                lr.fit(X, y)\n",
        "\n",
        "                effect[category] = accuracy_score(y, lr.predict(X))\n",
        "            except Exception as E:\n",
        "                print(E)\n",
        "\n",
        "        for key, value in effect.items():\n",
        "            effect[key] = np.log(effect[key] / (1 - effect[key] + 1e-6))\n",
        "\n",
        "        df_temp.loc[:, col] = df_temp.loc[:, col].map(effect)\n",
        "    return df_temp"
      ],
      "metadata": {
        "execution": {
          "iopub.status.busy": "2022-04-14T14:24:27.110734Z",
          "iopub.execute_input": "2022-04-14T14:24:27.111102Z",
          "iopub.status.idle": "2022-04-14T14:24:27.121985Z",
          "shell.execute_reply.started": "2022-04-14T14:24:27.111052Z",
          "shell.execute_reply": "2022-04-14T14:24:27.120876Z"
        },
        "trusted": true,
        "id": "4bY6KI55aMCg"
      },
      "execution_count": null,
      "outputs": []
    },
    {
      "cell_type": "code",
      "source": [
        "df_temp = likelihood_encoding(df_temp, cat_cols)"
      ],
      "metadata": {
        "execution": {
          "iopub.status.busy": "2022-04-14T14:24:27.12381Z",
          "iopub.execute_input": "2022-04-14T14:24:27.124358Z",
          "iopub.status.idle": "2022-04-14T14:25:11.379069Z",
          "shell.execute_reply.started": "2022-04-14T14:24:27.124309Z",
          "shell.execute_reply": "2022-04-14T14:25:11.378001Z"
        },
        "_kg_hide-output": true,
        "scrolled": true,
        "_kg_hide-input": false,
        "trusted": true,
        "id": "9ZBy8JU9aMCg"
      },
      "execution_count": null,
      "outputs": []
    },
    {
      "cell_type": "code",
      "source": [
        "df_temp.head()"
      ],
      "metadata": {
        "execution": {
          "iopub.status.busy": "2022-04-14T14:25:11.380839Z",
          "iopub.execute_input": "2022-04-14T14:25:11.381506Z",
          "iopub.status.idle": "2022-04-14T14:25:11.44121Z",
          "shell.execute_reply.started": "2022-04-14T14:25:11.381451Z",
          "shell.execute_reply": "2022-04-14T14:25:11.440095Z"
        },
        "trusted": true,
        "id": "Pgafy02taMCg"
      },
      "execution_count": null,
      "outputs": []
    },
    {
      "cell_type": "code",
      "source": [
        "df_temp.info()"
      ],
      "metadata": {
        "execution": {
          "iopub.status.busy": "2022-04-14T14:25:11.442998Z",
          "iopub.execute_input": "2022-04-14T14:25:11.443602Z",
          "iopub.status.idle": "2022-04-14T14:25:11.496293Z",
          "shell.execute_reply.started": "2022-04-14T14:25:11.443536Z",
          "shell.execute_reply": "2022-04-14T14:25:11.495175Z"
        },
        "trusted": true,
        "id": "QIb-RSx3aMCg"
      },
      "execution_count": null,
      "outputs": []
    },
    {
      "cell_type": "code",
      "source": [
        "del df_temp"
      ],
      "metadata": {
        "execution": {
          "iopub.status.busy": "2022-04-14T14:25:11.498144Z",
          "iopub.execute_input": "2022-04-14T14:25:11.498579Z",
          "iopub.status.idle": "2022-04-14T14:25:11.503721Z",
          "shell.execute_reply.started": "2022-04-14T14:25:11.498527Z",
          "shell.execute_reply": "2022-04-14T14:25:11.502664Z"
        },
        "trusted": true,
        "id": "oaoY8SOgaMCg"
      },
      "execution_count": null,
      "outputs": []
    },
    {
      "cell_type": "markdown",
      "source": [
        "Implementation part is done While very fast, it has drawbacks. For example, what happens when a factor level has a single value? Theoretically, the log-odds should be infinite in the appropriate direction i.e. p/(1 - p) tends to infinity if p = 1. And numerically, it is usually capped at a large (and inaccurate) value.\n",
        "\n",
        "For example in above implementation for column construction_type their are 2 categories 1 has around 148637 values and other has 33 values so for category mh which has 33 values p becomes 1 and it raises the error. Then This lead us to move to next technique known as target encoding which is simpler that likelihood encoding.\n",
        "\n",
        "\n",
        "\n",
        "<h3  style=\"text-align: center\" class=\"list-group-item list-group-item-warning\"> 3.1.2 Target Encoding</h3><a id = \"3.1.2\" ></a>\n",
        "\n",
        "\n",
        "It is same as likelihood encoding but the difference is we use average of output variable for that particular category to encode values inplace of some linear model. Lets move to the implementation."
      ],
      "metadata": {
        "id": "yuw_y_AhaMCg"
      }
    },
    {
      "cell_type": "code",
      "source": [
        "def target_encoding(df, cat_cols, target_variable = \"Status\"):\n",
        "\n",
        "    for col in cat_cols:\n",
        "        weight = 7\n",
        "        feat = df.groupby(col)[target_variable].agg([\"mean\", \"count\"])\n",
        "        mean = feat['mean']\n",
        "        count = feat['count']\n",
        "\n",
        "        smooth = (count * mean + weight * mean) / (weight + count)\n",
        "\n",
        "        df.loc[:, col] = df.loc[:, col].map(smooth)\n",
        "\n",
        "    return df"
      ],
      "metadata": {
        "execution": {
          "iopub.status.busy": "2022-04-14T14:25:11.505716Z",
          "iopub.execute_input": "2022-04-14T14:25:11.507199Z",
          "iopub.status.idle": "2022-04-14T14:25:11.52564Z",
          "shell.execute_reply.started": "2022-04-14T14:25:11.50714Z",
          "shell.execute_reply": "2022-04-14T14:25:11.524539Z"
        },
        "trusted": true,
        "id": "U-cDxahJaMCh"
      },
      "execution_count": null,
      "outputs": []
    },
    {
      "cell_type": "code",
      "source": [
        "df_temp = df_new.copy()"
      ],
      "metadata": {
        "execution": {
          "iopub.status.busy": "2022-04-14T14:25:11.527448Z",
          "iopub.execute_input": "2022-04-14T14:25:11.527934Z",
          "iopub.status.idle": "2022-04-14T14:25:11.559109Z",
          "shell.execute_reply.started": "2022-04-14T14:25:11.527844Z",
          "shell.execute_reply": "2022-04-14T14:25:11.558211Z"
        },
        "trusted": true,
        "id": "_VBe3EFkaMCh"
      },
      "execution_count": null,
      "outputs": []
    },
    {
      "cell_type": "code",
      "source": [
        "from sklearn.linear_model import LogisticRegression\n",
        "from sklearn.metrics import accuracy_score\n",
        "from sklearn.preprocessing import LabelEncoder\n",
        "\n",
        "\n",
        "## Again we have to temporarily encode variables\n",
        "lb = LabelEncoder()\n",
        "\n",
        "cat_cols = [col for col in df_temp.columns if df_temp[col].dtype == 'object']\n",
        "\n",
        "for col in cat_cols:\n",
        "    df_temp[col] = lb.fit_transform(df_temp[col])\n"
      ],
      "metadata": {
        "execution": {
          "iopub.status.busy": "2022-04-14T14:25:11.560914Z",
          "iopub.execute_input": "2022-04-14T14:25:11.561289Z",
          "iopub.status.idle": "2022-04-14T14:25:12.689958Z",
          "shell.execute_reply.started": "2022-04-14T14:25:11.561239Z",
          "shell.execute_reply": "2022-04-14T14:25:12.689046Z"
        },
        "trusted": true,
        "id": "oMEafC_qaMCh"
      },
      "execution_count": null,
      "outputs": []
    },
    {
      "cell_type": "code",
      "source": [
        "df_temp = target_encoding(df_temp, cat_cols)"
      ],
      "metadata": {
        "execution": {
          "iopub.status.busy": "2022-04-14T14:25:12.691349Z",
          "iopub.execute_input": "2022-04-14T14:25:12.691602Z",
          "iopub.status.idle": "2022-04-14T14:25:12.866053Z",
          "shell.execute_reply.started": "2022-04-14T14:25:12.69157Z",
          "shell.execute_reply": "2022-04-14T14:25:12.865326Z"
        },
        "trusted": true,
        "id": "JVnLADwPaMCh"
      },
      "execution_count": null,
      "outputs": []
    },
    {
      "cell_type": "code",
      "source": [
        "df_temp.head()"
      ],
      "metadata": {
        "execution": {
          "iopub.status.busy": "2022-04-14T14:25:12.867294Z",
          "iopub.execute_input": "2022-04-14T14:25:12.867626Z",
          "iopub.status.idle": "2022-04-14T14:25:12.90011Z",
          "shell.execute_reply.started": "2022-04-14T14:25:12.867595Z",
          "shell.execute_reply": "2022-04-14T14:25:12.899175Z"
        },
        "trusted": true,
        "id": "Gs4uMGmMaMCh"
      },
      "execution_count": null,
      "outputs": []
    },
    {
      "cell_type": "markdown",
      "source": [
        "- Target Encoding could be good choice for binary classification but for regression it is not, because it ignores intra-category variation of the target variable. This is addressed in Bayesian Target Encoding.\n",
        "\n",
        "- Target encoding has a tendency to overfit due to the target leakage.\n",
        "\n",
        "- Another problem is that some of the categories have few training examples, and the mean target value for these categories may assume extreme values, so encoding these values with mean may reduce the model performance.\n",
        "\n",
        "These issues are addressed in Bayesian Target Encoding. Which you can read from this informational blog [Target Encoding and Bayesian Target Encoding](https://towardsdatascience.com/target-encoding-and-bayesian-target-encoding-5c6a6c58ae8c)\n"
      ],
      "metadata": {
        "id": "kMwD3SpyaMCh"
      }
    },
    {
      "cell_type": "code",
      "source": [
        "df['age'].value_counts()"
      ],
      "metadata": {
        "execution": {
          "iopub.status.busy": "2022-04-14T14:25:12.901645Z",
          "iopub.execute_input": "2022-04-14T14:25:12.902116Z",
          "iopub.status.idle": "2022-04-14T14:25:12.932061Z",
          "shell.execute_reply.started": "2022-04-14T14:25:12.902065Z",
          "shell.execute_reply": "2022-04-14T14:25:12.93124Z"
        },
        "trusted": true,
        "id": "AU5mmhcBaMCh"
      },
      "execution_count": null,
      "outputs": []
    },
    {
      "cell_type": "markdown",
      "source": [
        "<h3  style=\"text-align: center\" class=\"list-group-item list-group-item-warning\"> 3.1.3 Deep Learning Methods</h3><a id = \"3.1.3\" ></a>\n",
        "\n",
        "\n",
        "Another supervised approach comes from the deep learning literature on the analysis of textual data. In this case, large amounts of text can be cut up into individual words. Rather than making each of these words into its own indicator variable, word embedding or entity embedding approaches have been developed. Similar to the dimension reduction methods, the idea is to estimate a smaller set of numeric features that can be used to adequately represent the categorical predictors.\n",
        "\n",
        "In addition to the dimension reduction, there is the possibility that these methods can estimate semantic relationships between words so that words with similar themes (e.g., “dog”, “pet”, etc.) have similar values in the new encodings. This technique is not limited to text data and can be used to encode any type of qualitative variable.\n",
        "\n",
        "The idea is well very simple do not extract features manually use neural network to do the hard part and just wait for the results."
      ],
      "metadata": {
        "id": "N44O1yuqaMCh"
      }
    },
    {
      "cell_type": "markdown",
      "source": [
        "<h2  style=\"text-align: center\" class=\"list-group-item list-group-item-success\"> 3.2 Approaches for Novel Categories</h2><a id = \"3.2\" ></a>\n",
        "\n",
        "\n",
        "\n",
        "What if some new category introduce to some attribute in future how will we encode that variable then? If there is a possibility of encountering a new category in the future, one strategy would be to use the \"other\" category to capture new values.\n",
        "\n",
        "While this approach may not be the most effective at extracting predictive information relative to the response for this specific category, it does enable the original model to be applied to new data without completely refitting and we do need to ensure that the \"other\" category is present in the training/testing data.\n",
        "\n",
        "After assigning \"other\" category to novel category than we can do all kinds of encodings we studied above"
      ],
      "metadata": {
        "id": "SpxkWN9JaMCh"
      }
    },
    {
      "cell_type": "markdown",
      "source": [
        "This is it for this notebook in upcoming notebooks will try to cover more data preprocessing techniques like Binning for reducing noise, application of PCA in feature engineering, advance feature selection techniques and many more."
      ],
      "metadata": {
        "id": "EGWHUiHIaMCh"
      }
    },
    {
      "cell_type": "markdown",
      "source": [
        "<h1 style=\"text-align: center\" class=\"list-group-item list-group-item-action active\">References</h1><a id = \"\" ></a>\n",
        "\n",
        "- [Data Preprocessing in Machine Learning](https://www.javatpoint.com/data-preprocessing-machine-learning)\n",
        "- [Easy Way of Finding and Visualizing Missing Data in Python](https://medium.datadriveninvestor.com/easy-way-of-finding-and-visualizing-missing-data-in-python-bf5e3f622dc5)\n",
        "- [Visualizing Missing Values in Python is Shockingly Easy](https://towardsdatascience.com/visualizing-missing-values-in-python-is-shockingly-easy-56ed5bc2e7ea)\n",
        "- [Encoding categorical variables using likelihood estimation](https://datascience.stackexchange.com/questions/11024/encoding-categorical-variables-using-likelihood-estimation)\n",
        "- [Target Encoding and Bayesian Target Encoding](https://towardsdatascience.com/target-encoding-and-bayesian-target-encoding-5c6a6c58ae8c)"
      ],
      "metadata": {
        "id": "-SlCzg2maMCh"
      }
    },
    {
      "cell_type": "code",
      "source": [],
      "metadata": {
        "id": "vZliopzGaMCi"
      },
      "execution_count": null,
      "outputs": []
    }
  ]
}